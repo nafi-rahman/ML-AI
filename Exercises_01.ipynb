{
  "nbformat": 4,
  "nbformat_minor": 0,
  "metadata": {
    "colab": {
      "provenance": [],
      "authorship_tag": "ABX9TyONE0NYH4KB4q9PdefNO0Od",
      "include_colab_link": true
    },
    "kernelspec": {
      "name": "python3",
      "display_name": "Python 3"
    },
    "language_info": {
      "name": "python"
    }
  },
  "cells": [
    {
      "cell_type": "markdown",
      "metadata": {
        "id": "view-in-github",
        "colab_type": "text"
      },
      "source": [
        "<a href=\"https://colab.research.google.com/github/nafi-rahman/ML-AI/blob/main/Exercises_01.ipynb\" target=\"_parent\"><img src=\"https://colab.research.google.com/assets/colab-badge.svg\" alt=\"Open In Colab\"/></a>"
      ]
    },
    {
      "cell_type": "markdown",
      "source": [
        "#Exercises"
      ],
      "metadata": {
        "id": "KKOSEfAusYbE"
      }
    },
    {
      "cell_type": "markdown",
      "source": [
        "##Create a straght line dataset with the formula\n",
        "`Linear Regression y, mx + c`"
      ],
      "metadata": {
        "id": "0Ung0K16s0wB"
      }
    },
    {
      "cell_type": "markdown",
      "source": [
        "###import"
      ],
      "metadata": {
        "id": "imi2JoWmuY0g"
      }
    },
    {
      "cell_type": "code",
      "source": [
        "import torch\n",
        "import numpy as np\n",
        "import matplotlib.pyplot as plt\n"
      ],
      "metadata": {
        "id": "Vk8jRQSitifu"
      },
      "execution_count": 1,
      "outputs": []
    },
    {
      "cell_type": "markdown",
      "source": [
        "###creating the x and y with the formula"
      ],
      "metadata": {
        "id": "a7UgnOVaucDd"
      }
    },
    {
      "cell_type": "code",
      "source": [
        "weight = 0.3\n",
        "bias = 0.9\n",
        "x = torch.arange(0,1,0.01).unsqueeze(dim=1)\n",
        "y = weight * x + bias\n",
        "\n",
        "len(x),len(y)"
      ],
      "metadata": {
        "colab": {
          "base_uri": "https://localhost:8080/"
        },
        "id": "fswnQLiks_B8",
        "outputId": "5d5445ec-d91b-4479-bb98-600b2e50720f"
      },
      "execution_count": 2,
      "outputs": [
        {
          "output_type": "execute_result",
          "data": {
            "text/plain": [
              "(100, 100)"
            ]
          },
          "metadata": {},
          "execution_count": 2
        }
      ]
    },
    {
      "cell_type": "markdown",
      "source": [
        "###splitting data"
      ],
      "metadata": {
        "id": "wudw-MYzuh9n"
      }
    },
    {
      "cell_type": "code",
      "source": [
        "train_split = int(0.8 * len(x))\n",
        "x_train, y_train = x[:train_split] , y[:train_split]\n",
        "x_test,y_test = x[train_split:] , y[train_split:]\n",
        "\n",
        "len(x_test),len(y_test),len(x_train),len(y_train)"
      ],
      "metadata": {
        "colab": {
          "base_uri": "https://localhost:8080/"
        },
        "id": "XVZg_fnZulRj",
        "outputId": "5831be4f-3e2f-4248-e0dd-1cfe8524a1ce"
      },
      "execution_count": 3,
      "outputs": [
        {
          "output_type": "execute_result",
          "data": {
            "text/plain": [
              "(20, 20, 80, 80)"
            ]
          },
          "metadata": {},
          "execution_count": 3
        }
      ]
    },
    {
      "cell_type": "markdown",
      "source": [
        "###plotting data"
      ],
      "metadata": {
        "id": "y-KdHeVcuk_L"
      }
    },
    {
      "cell_type": "code",
      "source": [
        "def data_plot(train_data=None,\n",
        "              train_label=None,\n",
        "              test_data=None,\n",
        "              test_label=None,\n",
        "              prediction=None):\n",
        "  plt.figure(figsize=(8,5))\n",
        "\n",
        "  #plt training data in blue\n",
        "  if train_data is not None:\n",
        "    if train_label is not None:\n",
        "      plt.scatter(train_data,\n",
        "                train_label,\n",
        "                c='b',\n",
        "                label=\"Training data\")\n",
        "  #plt testing data in green\n",
        "  if test_data is not None:\n",
        "    if test_label is not None:\n",
        "      plt.scatter(test_data,\n",
        "                test_label,\n",
        "                c='g',\n",
        "                label=\"Testing data\")\n",
        "  #plt predictions in red\n",
        "  if prediction is not None:\n",
        "    plt.scatter(test_data,\n",
        "                prediction,\n",
        "                c='r',\n",
        "                label=\"Predictions\")\n",
        "  #show legends\n",
        "  plt.legend(prop={\"size\":14})\n",
        ""
      ],
      "metadata": {
        "id": "479oZ4T2vq2F"
      },
      "execution_count": 4,
      "outputs": []
    },
    {
      "cell_type": "code",
      "source": [
        "data_plot(x_train,y_train,x_test,y_test)"
      ],
      "metadata": {
        "colab": {
          "base_uri": "https://localhost:8080/",
          "height": 445
        },
        "id": "VaHDAyPRxRqK",
        "outputId": "1d2645b5-031f-4858-fe65-9327478df817"
      },
      "execution_count": 5,
      "outputs": [
        {
          "output_type": "display_data",
          "data": {
            "text/plain": [
              "<Figure size 800x500 with 1 Axes>"
            ],
            "image/png": "[encoded data removed]"
          },
          "metadata": {}
        }
      ]
    },
    {
      "cell_type": "markdown",
      "source": [
        "##Building a PyTorch model"
      ],
      "metadata": {
        "id": "6FcFEXCVx6KO"
      }
    },
    {
      "cell_type": "code",
      "source": [
        "from torch import nn\n",
        "class Lin(nn.Module):\n",
        "  def __init__(self):\n",
        "    super().__init__()\n",
        "    self.weight = nn.Parameter(torch.randn(1,dtype=torch.float),requires_grad=True)\n",
        "    self.bias = nn.Parameter(torch.randn(1,dtype=torch.float),requires_grad=True)\n",
        "  def forward(self, x: torch.tensor) -> torch.tensor:\n",
        "    return self.weights * x + self.bias"
      ],
      "metadata": {
        "id": "g6B8SrSLx9fI"
      },
      "execution_count": 6,
      "outputs": []
    },
    {
      "cell_type": "code",
      "source": [
        "from torch import nn\n",
        "class LinReg(nn.Module):\n",
        "  def __init__(self):\n",
        "    super().__init__()\n",
        "    #use nn.Linear() for creating model params\n",
        "    self.linear_layer = nn.Linear(in_features=1,\n",
        "                                   out_features=1)\n",
        "  def forward(self,x: torch.Tensor) -> torch.Tensor:\n",
        "    return self.linear_layer(x)"
      ],
      "metadata": {
        "id": "Yss55qU926NX"
      },
      "execution_count": 7,
      "outputs": []
    },
    {
      "cell_type": "code",
      "source": [
        "model = LinReg()"
      ],
      "metadata": {
        "id": "2N8niZnY26Ma"
      },
      "execution_count": 8,
      "outputs": []
    },
    {
      "cell_type": "markdown",
      "source": [
        "###Loss function and optimizer"
      ],
      "metadata": {
        "id": "qaaUo36b5YMW"
      }
    },
    {
      "cell_type": "code",
      "source": [
        "loss_fn = nn.L1Loss()\n",
        "optimizer = torch.optim.Adam(params = model.parameters(),lr=0.01)"
      ],
      "metadata": {
        "id": "4kcht8YO5aqs"
      },
      "execution_count": 9,
      "outputs": []
    },
    {
      "cell_type": "markdown",
      "source": [
        "##Training and testing loop"
      ],
      "metadata": {
        "id": "Ml56GCYb6vdd"
      }
    },
    {
      "cell_type": "code",
      "source": [
        "device = \"cuda\" if torch.cuda.is_available() else \"cpu\"\n",
        "\n",
        "def modelTT(epoch,model,train_data,train_label,test_data,test_label):\n",
        "  EPOCHS = epoch\n",
        "  if device == \"cuda\":\n",
        "    model.to(device)\n",
        "    train_data.to(device)\n",
        "    train_label.to(device)\n",
        "    test_data.to(device)\n",
        "    test_label.to(device)\n",
        "  #Train\n",
        "  for epoch in range(EPOCHS):\n",
        "    model.train()\n",
        "    y_pred = model(train_data) #1. Forward pass\n",
        "    loss = loss_fn(y_pred,train_label) #2. calculate loss\n",
        "    optimizer.zero_grad() #3. zeroing the optimizer\n",
        "    loss.backward() #4. back propegation\n",
        "    optimizer.step() #5.optimizing the values\n",
        "  #test\n",
        "  model.eval()\n",
        "  with torch.inference_mode():\n",
        "    test_pred = model(test_data)\n",
        "    test_loss = loss_fn(test_pred,test_label)\n",
        "  if epoch % 100 == 0:\n",
        "    print(f\"Epoch: {epoch} | Train loss: {loss} | Test loss: {test_loss}\")"
      ],
      "metadata": {
        "id": "HoIR88WB616L"
      },
      "execution_count": 10,
      "outputs": []
    },
    {
      "cell_type": "markdown",
      "source": [
        "##Training/testing/evaluating model"
      ],
      "metadata": {
        "id": "lcb7eg959J4C"
      }
    },
    {
      "cell_type": "markdown",
      "source": [
        "###training and testing model using the train/test loop"
      ],
      "metadata": {
        "id": "1e40s2fY9Oym"
      }
    },
    {
      "cell_type": "code",
      "source": [
        "print(f\"model params before training and testing loop: \\n{model.state_dict()}\")"
      ],
      "metadata": {
        "colab": {
          "base_uri": "https://localhost:8080/"
        },
        "id": "_Q_77AJB9VVO",
        "outputId": "9c75732a-9cd5-452a-d22b-d498c03074fa"
      },
      "execution_count": 18,
      "outputs": [
        {
          "output_type": "stream",
          "name": "stdout",
          "text": [
            "model params before training and testing loop: \n",
            "OrderedDict([('linear_layer.weight', tensor([[0.2967]])), ('linear_layer.bias', tensor([0.8991]))])\n"
          ]
        }
      ]
    },
    {
      "cell_type": "code",
      "source": [
        "modelTT(100,model,x_train,y_train,x_test,y_test)"
      ],
      "metadata": {
        "id": "NZkTeji59SWq"
      },
      "execution_count": 19,
      "outputs": []
    },
    {
      "cell_type": "code",
      "source": [
        "model.state_dict()"
      ],
      "metadata": {
        "colab": {
          "base_uri": "https://localhost:8080/"
        },
        "id": "DmkO2KM9Abo0",
        "outputId": "0c369dc7-6d4a-4ad2-ede9-a91ea8cf2090"
      },
      "execution_count": 20,
      "outputs": [
        {
          "output_type": "execute_result",
          "data": {
            "text/plain": [
              "OrderedDict([('linear_layer.weight', tensor([[0.2989]])),\n",
              "             ('linear_layer.bias', tensor([0.9013]))])"
            ]
          },
          "metadata": {},
          "execution_count": 20
        }
      ]
    },
    {
      "cell_type": "code",
      "source": [
        "model.eval()\n",
        "with torch.inference_mode():\n",
        "  prediction = model(x_test)"
      ],
      "metadata": {
        "id": "EnWNzygiBNCT"
      },
      "execution_count": 21,
      "outputs": []
    },
    {
      "cell_type": "code",
      "source": [
        "data_plot(x_train,y_train,x_test,y_test,prediction)"
      ],
      "metadata": {
        "colab": {
          "base_uri": "https://localhost:8080/",
          "height": 445
        },
        "id": "D-ynCAH2As2l",
        "outputId": "810a1a65-576c-4aa7-da65-571b9e53e2dd"
      },
      "execution_count": 22,
      "outputs": [
        {
          "output_type": "display_data",
          "data": {
            "text/plain": [
              "<Figure size 800x500 with 1 Axes>"
            ],
            "image/png": "[encoded data removed]"
          },
          "metadata": {}
        }
      ]
    },
    {
      "cell_type": "code",
      "source": [
        "#save model\n",
        "from pathlib import Path\n",
        "\n",
        "#directory\n",
        "MODEL_PATH = Path(\"models\")\n",
        "MODEL_PATH.mkdir(parents=True, exist_ok=True)\n",
        "#path\n",
        "MODEL_NAME = \"01_model.pth\"\n",
        "MODEL_SAVE_PATH = MODEL_PATH/MODEL_NAME\n",
        "\n",
        "#save state dict\n",
        "print(f\"saving model to : {MODEL_SAVE_PATH}\")\n",
        "torch.save(obj = model.state_dict(),\n",
        "            f=MODEL_SAVE_PATH)"
      ],
      "metadata": {
        "colab": {
          "base_uri": "https://localhost:8080/"
        },
        "id": "pN2kWReJBcx4",
        "outputId": "9ebdcfcd-7423-45c1-b9f2-5b763cc28a71"
      },
      "execution_count": 23,
      "outputs": [
        {
          "output_type": "stream",
          "name": "stdout",
          "text": [
            "saving model to : models/01_model.pth\n"
          ]
        }
      ]
    },
    {
      "cell_type": "code",
      "source": [
        "#laod the model\n",
        "loaded_model = LinReg()\n",
        "loaded_model.load_state_dict(torch.load(MODEL_SAVE_PATH))\n",
        "loaded_model.to(device)"
      ],
      "metadata": {
        "colab": {
          "base_uri": "https://localhost:8080/"
        },
        "id": "b85zVHNUBtl0",
        "outputId": "6f343800-2404-4c04-80ed-13cdff159dd9"
      },
      "execution_count": 26,
      "outputs": [
        {
          "output_type": "execute_result",
          "data": {
            "text/plain": [
              "LinReg(\n",
              "  (linear_layer): Linear(in_features=1, out_features=1, bias=True)\n",
              ")"
            ]
          },
          "metadata": {},
          "execution_count": 26
        }
      ]
    },
    {
      "cell_type": "code",
      "source": [
        "loaded_model.state_dict()"
      ],
      "metadata": {
        "colab": {
          "base_uri": "https://localhost:8080/"
        },
        "id": "MWG-wnwgCAbG",
        "outputId": "ba86c906-6155-49bb-f4d4-8b618586acb8"
      },
      "execution_count": 27,
      "outputs": [
        {
          "output_type": "execute_result",
          "data": {
            "text/plain": [
              "OrderedDict([('linear_layer.weight', tensor([[0.2989]])),\n",
              "             ('linear_layer.bias', tensor([0.9013]))])"
            ]
          },
          "metadata": {},
          "execution_count": 27
        }
      ]
    }
  ]
}