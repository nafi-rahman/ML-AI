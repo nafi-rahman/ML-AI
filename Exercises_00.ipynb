{
  "nbformat": 4,
  "nbformat_minor": 0,
  "metadata": {
    "colab": {
      "provenance": [],
      "gpuType": "T4",
      "authorship_tag": "ABX9TyP9Ig304W/5yzGVvE43nKZj",
      "include_colab_link": true
    },
    "kernelspec": {
      "name": "python3",
      "display_name": "Python 3"
    },
    "language_info": {
      "name": "python"
    },
    "accelerator": "GPU"
  },
  "cells": [
    {
      "cell_type": "markdown",
      "metadata": {
        "id": "view-in-github",
        "colab_type": "text"
      },
      "source": [
        "<a href=\"https://colab.research.google.com/github/nafi-rahman/ML-AI/blob/main/Exercises_00.ipynb\" target=\"_parent\"><img src=\"https://colab.research.google.com/assets/colab-badge.svg\" alt=\"Open In Colab\"/></a>"
      ]
    },
    {
      "cell_type": "markdown",
      "source": [
        "\n",
        "\n",
        "\n",
        "#Exercises\n",
        "All of the exercises are focused on practicing the code above.\n",
        "Pytorch Fundamentals 00\n"
      ],
      "metadata": {
        "id": "Od6JCP8pN-vi"
      }
    },
    {
      "cell_type": "markdown",
      "source": [
        "##1. Documentation reading"
      ],
      "metadata": {
        "id": "abGlQRnrOc7_"
      }
    },
    {
      "cell_type": "markdown",
      "source": [
        "### 1.1 ```Torch.tensor```"
      ],
      "metadata": {
        "id": "nIxrzC45PGLg"
      }
    },
    {
      "cell_type": "markdown",
      "source": [
        "\n",
        "Torch.tensor is used to define a tensor object in Pytorch.\n",
        "A tensor object is a multidimentional matrix containing elements of a single datatype.\n",
        "torch defines 10 tensor types including CPU & GPU\n",
        "a pytorch tensor is 32-bit float(single) by default but it can also be, 16-bit float(half),64-bit float(double)\n",
        "\n",
        "```\n",
        "https://pytorch.org/docs/stable/tensors.html#torch.Tensor\n",
        "```"
      ],
      "metadata": {
        "id": "I1oaTJqnPOHq"
      }
    },
    {
      "cell_type": "markdown",
      "source": [
        "### 1.2 ```Torch.cuda```"
      ],
      "metadata": {
        "id": "UzT-a3fLPLQ3"
      }
    },
    {
      "cell_type": "markdown",
      "source": [
        "Torch.cuda is a package that adds support for cuda tensor types to utilize gpu computation.\n",
        "it is lazily initiazed so it can use is_available() to determine the support.\n",
        "```\n",
        "https://pytorch.org/docs/stable/cuda.html\n",
        "```"
      ],
      "metadata": {
        "id": "ly2lDC66Szyz"
      }
    },
    {
      "cell_type": "markdown",
      "source": [
        "##2. Create random tensor with shape (7,7)"
      ],
      "metadata": {
        "id": "9O6ShTazPPVP"
      }
    },
    {
      "cell_type": "code",
      "source": [
        "import torch\n",
        "\n",
        "rand7_7 = torch.rand(7,7)\n",
        "randInt7_7 = torch.randint(0,10,(7,7))\n",
        "\n",
        "print(f\"7x7 tensor made with torch.rand(): \\n{rand7_7}\\n\") #uses a set range from 0-1\n",
        "print(f\"7x7 tensor made with torch.randInt(): \\n{randInt7_7}\\n\") #the range can be set2"
      ],
      "metadata": {
        "colab": {
          "base_uri": "https://localhost:8080/"
        },
        "id": "bASBus_fPmLI",
        "outputId": "f36c0f63-d875-4a89-ef26-209772d634c6"
      },
      "execution_count": 1,
      "outputs": [
        {
          "output_type": "stream",
          "name": "stdout",
          "text": [
            "7x7 tensor made with torch.rand(): \n",
            "tensor([[0.7879, 0.4483, 0.6755, 0.0343, 0.1763, 0.2931, 0.7591],\n",
            "        [0.5890, 0.6765, 0.7632, 0.5529, 0.2663, 0.2348, 0.3402],\n",
            "        [0.6381, 0.0411, 0.8703, 0.8651, 0.4797, 0.4436, 0.2307],\n",
            "        [0.8401, 0.2570, 0.3463, 0.1632, 0.8001, 0.3768, 0.4128],\n",
            "        [0.7880, 0.8905, 0.1346, 0.9881, 0.3539, 0.1564, 0.1630],\n",
            "        [0.8794, 0.5287, 0.7798, 0.0087, 0.1158, 0.8305, 0.5293],\n",
            "        [0.7389, 0.4312, 0.1913, 0.5210, 0.7502, 0.9653, 0.1066]])\n",
            "\n",
            "7x7 tensor made with torch.randInt(): \n",
            "tensor([[4, 2, 8, 2, 8, 6, 0],\n",
            "        [6, 4, 0, 3, 9, 4, 9],\n",
            "        [0, 5, 4, 1, 2, 8, 5],\n",
            "        [5, 5, 0, 2, 9, 9, 2],\n",
            "        [4, 5, 3, 0, 7, 9, 3],\n",
            "        [2, 2, 6, 5, 9, 1, 2],\n",
            "        [2, 3, 1, 2, 5, 7, 4]])\n",
            "\n"
          ]
        }
      ]
    },
    {
      "cell_type": "markdown",
      "source": [
        "##3. Perform a matrix multiplication on the tensor from 2 with another random tensor with shape (1, 7) (hint: you may have to transpose the second tensor).\n"
      ],
      "metadata": {
        "id": "YRMGeBRnPQSX"
      }
    },
    {
      "cell_type": "code",
      "source": [
        "tensor_a = rand7_7\n",
        "tensor_b = torch.rand(1,7)\n",
        "\n",
        "tensor_c = torch.matmul(tensor_a,tensor_b.reshape(7,1))\n",
        "tensor_c"
      ],
      "metadata": {
        "colab": {
          "base_uri": "https://localhost:8080/"
        },
        "id": "xT215u5OP41c",
        "outputId": "ebf2d967-ea4b-43db-9259-7e9bff59336e"
      },
      "execution_count": 3,
      "outputs": [
        {
          "output_type": "execute_result",
          "data": {
            "text/plain": [
              "tensor([[1.5114],\n",
              "        [1.9139],\n",
              "        [2.4643],\n",
              "        [2.0328],\n",
              "        [2.2201],\n",
              "        [1.7987],\n",
              "        [2.4084]])"
            ]
          },
          "metadata": {},
          "execution_count": 3
        }
      ]
    },
    {
      "cell_type": "markdown",
      "source": [
        "##4. Set the random seed to 0 and do 2 & 3 over again.\n",
        "```\n",
        "The output should be:\n",
        "\n",
        "(tensor([[1.8542],\n",
        "         [1.9611],\n",
        "         [2.2884],\n",
        "         [3.0481],\n",
        "         [1.7067],\n",
        "         [2.5290],\n",
        "         [1.7989]]), torch.Size([7, 1]))\n",
        "```"
      ],
      "metadata": {
        "id": "RsPmFfavPh2Z"
      }
    },
    {
      "cell_type": "code",
      "source": [
        "#set random seed\n",
        "torch.manual_seed(0)\n",
        "#create tensors\n",
        "tensor_a = torch.rand(7,7)\n",
        "tensor_b = torch.rand(1,7)\n",
        "#print shape\n",
        "print(f\"dim of tensor_a: {tensor_a.shape}\\n dim of tensor_b: {tensor_b.shape}\")\n",
        "#reshape\n",
        "tensor_b = tensor_b.reshape(7,1)\n",
        "#matrix multiply\n",
        "tensor_c = torch.matmul(tensor_a,tensor_b)\n",
        "tensor_c"
      ],
      "metadata": {
        "colab": {
          "base_uri": "https://localhost:8080/"
        },
        "id": "nJ1jaWGzQEd5",
        "outputId": "c4656530-3471-4daf-f1a4-cf583371a7ab"
      },
      "execution_count": 7,
      "outputs": [
        {
          "output_type": "stream",
          "name": "stdout",
          "text": [
            "dim of tensor_a: torch.Size([7, 7])\n",
            " dim of tensor_b: torch.Size([1, 7])\n"
          ]
        },
        {
          "output_type": "execute_result",
          "data": {
            "text/plain": [
              "tensor([[1.8542],\n",
              "        [1.9611],\n",
              "        [2.2884],\n",
              "        [3.0481],\n",
              "        [1.7067],\n",
              "        [2.5290],\n",
              "        [1.7989]])"
            ]
          },
          "metadata": {},
          "execution_count": 7
        }
      ]
    },
    {
      "cell_type": "markdown",
      "source": [
        "##5. random seed for gpu"
      ],
      "metadata": {
        "id": "3N7L_wpjPrF8"
      }
    },
    {
      "cell_type": "code",
      "source": [
        "import torch\n",
        "torch.manual_seed(0)\n",
        "tensor_cpu = torch.rand(2,2)\n",
        "torch.manual_seed(0) #only works on the line below\n",
        "tensor_gpu = torch.rand(2,2).to('cuda') #torch.cuda.seed() can also be used\n",
        "\n",
        "print(f\"cpu : \\n{tensor_cpu}\\n gpu: \\n{tensor_gpu}\\n\")"
      ],
      "metadata": {
        "colab": {
          "base_uri": "https://localhost:8080/"
        },
        "id": "MHBuPUefP_u0",
        "outputId": "18a8b519-0782-4468-de42-b4253ed5db22"
      },
      "execution_count": 9,
      "outputs": [
        {
          "output_type": "stream",
          "name": "stdout",
          "text": [
            "cpu : \n",
            "tensor([[0.4963, 0.7682],\n",
            "        [0.0885, 0.1320]])\n",
            " gpu: \n",
            "tensor([[0.4963, 0.7682],\n",
            "        [0.0885, 0.1320]], device='cuda:0')\n",
            "\n"
          ]
        }
      ]
    },
    {
      "cell_type": "markdown",
      "source": [
        "##6. Create two random tensors of shape (2, 3) and send them both to the GPU (you'll need access to a GPU for this). Set torch.manual_seed(1234) when creating the tensors (this doesn't have to be the GPU random seed).\n",
        "\n",
        "output:\n",
        "```\n",
        "Device: cuda\n",
        "(tensor([[0.0290, 0.4019, 0.2598],\n",
        "         [0.3666, 0.0583, 0.7006]], device='cuda:0'),\n",
        " tensor([[0.0518, 0.4681, 0.6738],\n",
        "         [0.3315, 0.7837, 0.5631]], device='cuda:0'))\n",
        "```"
      ],
      "metadata": {
        "id": "CcYP1X8UQDzM"
      }
    },
    {
      "cell_type": "code",
      "source": [
        "torch.manual_seed(1234)\n",
        "tensor_a = torch.rand(2,3).to('cuda')\n",
        "\n",
        "tensor_b = torch.rand(2,3).to('cuda')\n",
        "\n",
        "tensor_a, tensor_b"
      ],
      "metadata": {
        "colab": {
          "base_uri": "https://localhost:8080/"
        },
        "id": "1-nRZ4UxQX5F",
        "outputId": "fe229d6a-99fc-41d9-9e66-04e46e844fe7"
      },
      "execution_count": 11,
      "outputs": [
        {
          "output_type": "execute_result",
          "data": {
            "text/plain": [
              "(tensor([[0.0290, 0.4019, 0.2598],\n",
              "         [0.3666, 0.0583, 0.7006]], device='cuda:0'),\n",
              " tensor([[0.0518, 0.4681, 0.6738],\n",
              "         [0.3315, 0.7837, 0.5631]], device='cuda:0'))"
            ]
          },
          "metadata": {},
          "execution_count": 11
        }
      ]
    },
    {
      "cell_type": "markdown",
      "source": [
        "##7. Perform a matrix multiplication on the tensors you created in 6 (again, you may have to adjust the shapes of one of the tensors)."
      ],
      "metadata": {
        "id": "MGvF8D-nQZza"
      }
    },
    {
      "cell_type": "code",
      "source": [
        "#getting the shapes of tesnor\n",
        "print(f\"shape of 1: \\n{tensor_a.shape}\\n shape of 2: \\n{tensor_b.shape}\\n\")\n",
        "tensor_c = torch.matmul(tensor_a,tensor_b.reshape(3,2))\n",
        "tensor_c"
      ],
      "metadata": {
        "colab": {
          "base_uri": "https://localhost:8080/"
        },
        "id": "_AL4m9QLQafB",
        "outputId": "98f64076-5c6f-454a-9174-a22181656098"
      },
      "execution_count": 20,
      "outputs": [
        {
          "output_type": "stream",
          "name": "stdout",
          "text": [
            "shape of 1: \n",
            "torch.Size([2, 3])\n",
            " shape of 2: \n",
            "torch.Size([2, 3])\n",
            "\n"
          ]
        },
        {
          "output_type": "execute_result",
          "data": {
            "text/plain": [
              "tensor([[0.4759, 0.2931],\n",
              "        [0.6074, 0.5855]], device='cuda:0')"
            ]
          },
          "metadata": {},
          "execution_count": 20
        }
      ]
    },
    {
      "cell_type": "markdown",
      "source": [
        "##8. Find the maximum and minimum values of the output of 7."
      ],
      "metadata": {
        "id": "_m4RwBc9Qay9"
      }
    },
    {
      "cell_type": "code",
      "source": [
        "print(f\"max value: {tensor_c.max()}\\n minimum value: {tensor_c.min()}\")\n"
      ],
      "metadata": {
        "colab": {
          "base_uri": "https://localhost:8080/"
        },
        "id": "M5XhdLRuQhu5",
        "outputId": "9724880c-e585-49ca-c31e-b104e966eeb7"
      },
      "execution_count": 22,
      "outputs": [
        {
          "output_type": "stream",
          "name": "stdout",
          "text": [
            "max value: 0.6073753833770752\n",
            " minimum value: 0.2930890917778015\n"
          ]
        }
      ]
    },
    {
      "cell_type": "markdown",
      "source": [
        "##9. Find the maximum and minimum index values of the output of 7.\n"
      ],
      "metadata": {
        "id": "IkAXjhgZQjOx"
      }
    },
    {
      "cell_type": "code",
      "source": [
        "print(f\"max value index: {tensor_c.argmax()}\\n minimum value index: {tensor_c.argmin()}\")\n"
      ],
      "metadata": {
        "colab": {
          "base_uri": "https://localhost:8080/"
        },
        "id": "sKh32MNSQj-M",
        "outputId": "2154263a-2355-4032-cf11-4e02127f2678"
      },
      "execution_count": 23,
      "outputs": [
        {
          "output_type": "stream",
          "name": "stdout",
          "text": [
            "max value index: 2\n",
            " minimum value index: 1\n"
          ]
        }
      ]
    },
    {
      "cell_type": "markdown",
      "source": [
        "##10. Make a random tensor with shape (1, 1, 1, 10) and then create a new tensor with all the 1 dimensions removed to be left with a tensor of shape (10). Set the seed to 7 when you create it and print out the first tensor and it's shape as well as the second tensor and it's shape.\n",
        "\n",
        "output:\n",
        "```\n",
        "tensor([[[[0.5349, 0.1988, 0.6592, 0.6569, 0.2328, 0.4251, 0.2071, 0.6297,\n",
        "           0.3653, 0.8513]]]]) torch.Size([1, 1, 1, 10])\n",
        "tensor([0.5349, 0.1988, 0.6592, 0.6569, 0.2328, 0.4251, 0.2071, 0.6297, 0.3653,\n",
        "        0.8513]) torch.Size([10])\n",
        "\n",
        "```"
      ],
      "metadata": {
        "id": "SiqXMaziQj9U"
      }
    },
    {
      "cell_type": "code",
      "source": [
        "torch.manual_seed(7)\n",
        "tensor_a = torch.rand(1,1,1,10)\n",
        "print(f\"shape before: {tensor_a.shape}\")\n",
        "tensor_a = tensor_a.squeeze()\n",
        "print(f\"shape after: {tensor_a.shape}\")"
      ],
      "metadata": {
        "colab": {
          "base_uri": "https://localhost:8080/"
        },
        "id": "vqUumk8kQxBD",
        "outputId": "cdc7c392-e633-4604-e970-cf449750fc0a"
      },
      "execution_count": 24,
      "outputs": [
        {
          "output_type": "stream",
          "name": "stdout",
          "text": [
            "shape before: torch.Size([1, 1, 1, 10])\n",
            "shape after: torch.Size([10])\n"
          ]
        }
      ]
    },
    {
      "cell_type": "markdown",
      "source": [
        "#extra `https://pytorch.org/tutorials/beginner/basics/quickstart_tutorial.html`"
      ],
      "metadata": {
        "id": "qmX052fibhZx"
      }
    },
    {
      "cell_type": "markdown",
      "source": [
        "##QuickStart"
      ],
      "metadata": {
        "id": "NNaIU0s9bjdN"
      }
    },
    {
      "cell_type": "markdown",
      "source": [
        "###Working with data"
      ],
      "metadata": {
        "id": "3ULlJFSRe3GM"
      }
    },
    {
      "cell_type": "code",
      "source": [
        "#imports\n",
        "import torch\n",
        "import numpy as np\n",
        "import matplotlib.pyplot as plt\n",
        "import torchvision\n",
        "from torchvision.transforms import ToTensor\n",
        "from torch.utils.data import DataLoader\n",
        "from torch import nn"
      ],
      "metadata": {
        "id": "jOrRm8NFe-Ns"
      },
      "execution_count": 34,
      "outputs": []
    },
    {
      "cell_type": "code",
      "source": [
        "#Loading and importing data from torchvision datasets\n",
        "train_data = torchvision.datasets.FashionMNIST(\n",
        "    root=\"data\",\n",
        "    train = True,\n",
        "    download = True,\n",
        "    transform = ToTensor(),\n",
        "\n",
        ")\n",
        "\n",
        "test_data = torchvision.datasets.FashionMNIST(\n",
        "    root=\"data\",\n",
        "    train=False,\n",
        "    download=True,\n",
        "    transform= ToTensor()\n",
        ")\n",
        "\n"
      ],
      "metadata": {
        "colab": {
          "base_uri": "https://localhost:8080/"
        },
        "id": "Esg2_feTfIb9",
        "outputId": "3d0c462f-5072-4487-e0bd-0e955a0c601d"
      },
      "execution_count": 30,
      "outputs": [
        {
          "output_type": "stream",
          "name": "stdout",
          "text": [
            "Downloading http://fashion-mnist.s3-website.eu-central-1.amazonaws.com/train-images-idx3-ubyte.gz\n",
            "Downloading http://fashion-mnist.s3-website.eu-central-1.amazonaws.com/train-images-idx3-ubyte.gz to data/FashionMNIST/raw/train-images-idx3-ubyte.gz\n"
          ]
        },
        {
          "output_type": "stream",
          "name": "stderr",
          "text": [
            "100%|██████████| 26421880/26421880 [00:02<00:00, 11820904.88it/s]\n"
          ]
        },
        {
          "output_type": "stream",
          "name": "stdout",
          "text": [
            "Extracting data/FashionMNIST/raw/train-images-idx3-ubyte.gz to data/FashionMNIST/raw\n",
            "\n",
            "Downloading http://fashion-mnist.s3-website.eu-central-1.amazonaws.com/train-labels-idx1-ubyte.gz\n",
            "Downloading http://fashion-mnist.s3-website.eu-central-1.amazonaws.com/train-labels-idx1-ubyte.gz to data/FashionMNIST/raw/train-labels-idx1-ubyte.gz\n"
          ]
        },
        {
          "output_type": "stream",
          "name": "stderr",
          "text": [
            "100%|██████████| 29515/29515 [00:00<00:00, 200380.19it/s]\n"
          ]
        },
        {
          "output_type": "stream",
          "name": "stdout",
          "text": [
            "Extracting data/FashionMNIST/raw/train-labels-idx1-ubyte.gz to data/FashionMNIST/raw\n",
            "\n",
            "Downloading http://fashion-mnist.s3-website.eu-central-1.amazonaws.com/t10k-images-idx3-ubyte.gz\n",
            "Downloading http://fashion-mnist.s3-website.eu-central-1.amazonaws.com/t10k-images-idx3-ubyte.gz to data/FashionMNIST/raw/t10k-images-idx3-ubyte.gz\n"
          ]
        },
        {
          "output_type": "stream",
          "name": "stderr",
          "text": [
            "100%|██████████| 4422102/4422102 [00:01<00:00, 3745505.10it/s]\n"
          ]
        },
        {
          "output_type": "stream",
          "name": "stdout",
          "text": [
            "Extracting data/FashionMNIST/raw/t10k-images-idx3-ubyte.gz to data/FashionMNIST/raw\n",
            "\n",
            "Downloading http://fashion-mnist.s3-website.eu-central-1.amazonaws.com/t10k-labels-idx1-ubyte.gz\n",
            "Downloading http://fashion-mnist.s3-website.eu-central-1.amazonaws.com/t10k-labels-idx1-ubyte.gz to data/FashionMNIST/raw/t10k-labels-idx1-ubyte.gz\n"
          ]
        },
        {
          "output_type": "stream",
          "name": "stderr",
          "text": [
            "100%|██████████| 5148/5148 [00:00<00:00, 25828082.53it/s]"
          ]
        },
        {
          "output_type": "stream",
          "name": "stdout",
          "text": [
            "Extracting data/FashionMNIST/raw/t10k-labels-idx1-ubyte.gz to data/FashionMNIST/raw\n",
            "\n"
          ]
        },
        {
          "output_type": "stream",
          "name": "stderr",
          "text": [
            "\n"
          ]
        }
      ]
    },
    {
      "cell_type": "code",
      "source": [
        "#setting the batch size and passing dataset to dataloader\n",
        "BATCH_SIZE = 64\n",
        "#creating dataloaders\n",
        "train_loader = DataLoader(train_data,batch_size=BATCH_SIZE)\n",
        "test_loader = DataLoader(test_data,batch_size=BATCH_SIZE)\n",
        "\n",
        "for x, y in test_loader:\n",
        "  print(f\"shape of x[n,c,h,w]: {x.shape}\")\n",
        "  print(f\"shape of y: {y.shape} {y.dtype}\")\n",
        "  break"
      ],
      "metadata": {
        "colab": {
          "base_uri": "https://localhost:8080/"
        },
        "id": "Ch6LWjRAimY4",
        "outputId": "36eac651-ec63-4d28-a154-c7ad0f3a3539"
      },
      "execution_count": 33,
      "outputs": [
        {
          "output_type": "stream",
          "name": "stdout",
          "text": [
            "shape of x[n,c,h,w]: torch.Size([64, 1, 28, 28])\n",
            "shape of y: torch.Size([64]) torch.int64\n"
          ]
        }
      ]
    },
    {
      "cell_type": "markdown",
      "source": [
        "###creating a model\n",
        "to define a neural network in pytorch,\n",
        "* we will create a class to inherit from `nn.Module`.\n",
        "* we will define the layers of the network in the `__init__ ` module\n",
        "* we specify how the data will pass through the model in the forward function\n",
        "* to accelerate the code we will use device agnostic code"
      ],
      "metadata": {
        "id": "U5KQPcq5jeYH"
      }
    },
    {
      "cell_type": "code",
      "source": [
        "device = \"cuda\" if torch.cuda.is_available() else \"cpu\"\n",
        "print(f\"device being used: {device}\")\n",
        "\n",
        "class NN(nn.Module):\n",
        "  def __init__(self):\n",
        "    super().__init__()\n",
        "    self.flatten = nn.Flatten()\n",
        "    self.linear_relu_stack = nn.Sequential(\n",
        "        nn.Linear(28*28,512),\n",
        "        nn.ReLU(),\n",
        "        nn.Linear(512,512),\n",
        "        nn.ReLU(),\n",
        "        nn.Linear(512,10)\n",
        "    )\n",
        "\n",
        "  def forward(self, x: torch.Tensor) -> torch.Tensor:\n",
        "    x = self.flatten(x)\n",
        "    logits = self.linear_relu_stack(x)\n",
        "    return logits\n",
        "model = NN().to(device)\n",
        "print(model)"
      ],
      "metadata": {
        "colab": {
          "base_uri": "https://localhost:8080/"
        },
        "id": "wEJ9gpsTjhw4",
        "outputId": "0b4b6d37-a4b7-4e1e-f047-9aac49673672"
      },
      "execution_count": 39,
      "outputs": [
        {
          "output_type": "stream",
          "name": "stdout",
          "text": [
            "device being used: cuda\n",
            "NN(\n",
            "  (flatten): Flatten(start_dim=1, end_dim=-1)\n",
            "  (linear_relu_stack): Sequential(\n",
            "    (0): Linear(in_features=784, out_features=512, bias=True)\n",
            "    (1): ReLU()\n",
            "    (2): Linear(in_features=512, out_features=512, bias=True)\n",
            "    (3): ReLU()\n",
            "    (4): Linear(in_features=512, out_features=10, bias=True)\n",
            "  )\n",
            ")\n"
          ]
        }
      ]
    },
    {
      "cell_type": "markdown",
      "source": [
        "###optimizing the model with optimizer and loss function"
      ],
      "metadata": {
        "id": "ryBIlapelmeG"
      }
    },
    {
      "cell_type": "code",
      "source": [
        "loss_fn = nn.CrossEntropyLoss()\n",
        "optimizer = torch.optim.SGD(model.parameters(), lr=0.001)"
      ],
      "metadata": {
        "id": "r4Ln1LUklyru"
      },
      "execution_count": 41,
      "outputs": []
    },
    {
      "cell_type": "markdown",
      "source": [
        "\n",
        "\n",
        "\n",
        "\n",
        "\n",
        "###train / test loop"
      ],
      "metadata": {
        "id": "y-5xVztVmKLw"
      }
    },
    {
      "cell_type": "code",
      "source": [
        "def train(dataloader,model ,loss_fn, optimizer):\n",
        "  size = len(dataloader.dataset)\n",
        "  model.train()\n",
        "  for batch, (x,y) in enumerate(dataloader):\n",
        "    x,y = x.to(device) , y.to(device)\n",
        "\n",
        "    #compute error\n",
        "    pred = model(x)\n",
        "    loss = loss_fn(pred,y)\n",
        "\n",
        "    #backpropagation\n",
        "    loss.backward()\n",
        "    optimizer.step()\n",
        "    optimizer.zero_grad()\n",
        "\n",
        "    if batch % 100 == 0:\n",
        "      loss, current = loss.item(), (batch + 1) * len(x)\n",
        "      print(f\"loss: {loss:>7f} [{current:>5d} {size:>5d}]\")\n",
        "\n",
        "def test(dataloader, model, loss_fn):\n",
        "    size = len(dataloader.dataset)\n",
        "    num_batches = len(dataloader)\n",
        "    model.eval()\n",
        "    test_loss, correct = 0, 0\n",
        "    with torch.no_grad():\n",
        "        for X, y in dataloader:\n",
        "            X, y = X.to(device), y.to(device)\n",
        "            pred = model(X)\n",
        "            test_loss += loss_fn(pred, y).item()\n",
        "            correct += (pred.argmax(1) == y).type(torch.float).sum().item()\n",
        "    test_loss /= num_batches\n",
        "    correct /= size\n",
        "    print(f\"Test Error: \\n Accuracy: {(100*correct):>0.1f}%, Avg loss: {test_loss:>8f} \\n\")\n"
      ],
      "metadata": {
        "id": "UQQu0uUbmMTN"
      },
      "execution_count": 48,
      "outputs": []
    },
    {
      "cell_type": "markdown",
      "source": [
        "###training the model"
      ],
      "metadata": {
        "id": "av-520gfop5b"
      }
    },
    {
      "cell_type": "code",
      "source": [
        "epochs = 5\n",
        "for t in range(epochs):\n",
        "    print(f\"Epoch {t+1}\\n-------------------------------\")\n",
        "    train(train_loader, model, loss_fn, optimizer)\n",
        "    test(test_loader, model, loss_fn)\n",
        "print(\"Done!\")"
      ],
      "metadata": {
        "colab": {
          "base_uri": "https://localhost:8080/"
        },
        "id": "ve8Eo2dCnSaM",
        "outputId": "b3859aae-0fd3-40c9-8f80-d758415f5f1e"
      },
      "execution_count": 49,
      "outputs": [
        {
          "output_type": "stream",
          "name": "stdout",
          "text": [
            "Epoch 1\n",
            "-------------------------------\n",
            "loss: 2.171227 [   64 60000]\n",
            "loss: 2.154419 [ 6464 60000]\n",
            "loss: 2.097186 [12864 60000]\n",
            "loss: 2.111963 [19264 60000]\n",
            "loss: 2.072572 [25664 60000]\n",
            "loss: 2.011855 [32064 60000]\n",
            "loss: 2.037189 [38464 60000]\n",
            "loss: 1.959713 [44864 60000]\n",
            "loss: 1.963154 [51264 60000]\n",
            "loss: 1.882406 [57664 60000]\n",
            "Test Error: \n",
            " Accuracy: 56.6%, Avg loss: 1.885315 \n",
            "\n",
            "Epoch 2\n",
            "-------------------------------\n",
            "loss: 1.921265 [   64 60000]\n",
            "loss: 1.881495 [ 6464 60000]\n",
            "loss: 1.768294 [12864 60000]\n",
            "loss: 1.808204 [19264 60000]\n",
            "loss: 1.708477 [25664 60000]\n",
            "loss: 1.665028 [32064 60000]\n",
            "loss: 1.675680 [38464 60000]\n",
            "loss: 1.582599 [44864 60000]\n",
            "loss: 1.605408 [51264 60000]\n",
            "loss: 1.490898 [57664 60000]\n",
            "Test Error: \n",
            " Accuracy: 60.3%, Avg loss: 1.517093 \n",
            "\n",
            "Epoch 3\n",
            "-------------------------------\n",
            "loss: 1.585299 [   64 60000]\n",
            "loss: 1.540761 [ 6464 60000]\n",
            "loss: 1.400319 [12864 60000]\n",
            "loss: 1.470542 [19264 60000]\n",
            "loss: 1.359760 [25664 60000]\n",
            "loss: 1.362487 [32064 60000]\n",
            "loss: 1.363258 [38464 60000]\n",
            "loss: 1.294082 [44864 60000]\n",
            "loss: 1.329822 [51264 60000]\n",
            "loss: 1.220949 [57664 60000]\n",
            "Test Error: \n",
            " Accuracy: 62.8%, Avg loss: 1.255706 \n",
            "\n",
            "Epoch 4\n",
            "-------------------------------\n",
            "loss: 1.335081 [   64 60000]\n",
            "loss: 1.305219 [ 6464 60000]\n",
            "loss: 1.150447 [12864 60000]\n",
            "loss: 1.253609 [19264 60000]\n",
            "loss: 1.134259 [25664 60000]\n",
            "loss: 1.167199 [32064 60000]\n",
            "loss: 1.173693 [38464 60000]\n",
            "loss: 1.115657 [44864 60000]\n",
            "loss: 1.156690 [51264 60000]\n",
            "loss: 1.064079 [57664 60000]\n",
            "Test Error: \n",
            " Accuracy: 64.2%, Avg loss: 1.093152 \n",
            "\n",
            "Epoch 5\n",
            "-------------------------------\n",
            "loss: 1.168546 [   64 60000]\n",
            "loss: 1.156337 [ 6464 60000]\n",
            "loss: 0.985138 [12864 60000]\n",
            "loss: 1.117308 [19264 60000]\n",
            "loss: 0.994105 [25664 60000]\n",
            "loss: 1.034874 [32064 60000]\n",
            "loss: 1.055102 [38464 60000]\n",
            "loss: 1.001139 [44864 60000]\n",
            "loss: 1.042719 [51264 60000]\n",
            "loss: 0.965020 [57664 60000]\n",
            "Test Error: \n",
            " Accuracy: 65.4%, Avg loss: 0.987259 \n",
            "\n",
            "Done!\n"
          ]
        }
      ]
    },
    {
      "cell_type": "markdown",
      "source": [
        "###saving\\loading the model"
      ],
      "metadata": {
        "id": "xKgOqlI5pHA_"
      }
    },
    {
      "cell_type": "code",
      "source": [
        "#save model\n",
        "from pathlib import Path\n",
        "\n",
        "#directory\n",
        "MODEL_PATH = Path(\"models\")\n",
        "MODEL_PATH.mkdir(parents=True, exist_ok=True)\n",
        "#path\n",
        "MODEL_NAME = \"01_model.pth\"\n",
        "MODEL_SAVE_PATH = MODEL_PATH/MODEL_NAME\n",
        "\n",
        "#save state dict\n",
        "print(f\"saving model to : {MODEL_SAVE_PATH}\")\n",
        "torch.save(obj = model.state_dict(),\n",
        "            f=MODEL_SAVE_PATH)"
      ],
      "metadata": {
        "colab": {
          "base_uri": "https://localhost:8080/"
        },
        "id": "WiAWVQyopLEv",
        "outputId": "b0c16bc3-8b8d-4f82-e94e-e0db87e00a03"
      },
      "execution_count": 51,
      "outputs": [
        {
          "output_type": "stream",
          "name": "stdout",
          "text": [
            "saving model to : models/01_model.pth\n"
          ]
        }
      ]
    },
    {
      "cell_type": "code",
      "source": [
        "model = NN().to(device)\n",
        "model.load_state_dict(torch.load(MODEL_SAVE_PATH))"
      ],
      "metadata": {
        "colab": {
          "base_uri": "https://localhost:8080/"
        },
        "id": "Tr-a79P3pUZ9",
        "outputId": "70868071-0fd7-416e-9b70-abea06a9f4f8"
      },
      "execution_count": 53,
      "outputs": [
        {
          "output_type": "execute_result",
          "data": {
            "text/plain": [
              "<All keys matched successfully>"
            ]
          },
          "metadata": {},
          "execution_count": 53
        }
      ]
    },
    {
      "cell_type": "markdown",
      "source": [
        "###inference"
      ],
      "metadata": {
        "id": "e4VHQ1f7pmwB"
      }
    },
    {
      "cell_type": "code",
      "source": [
        "model.eval()\n",
        "with torch.inference_mode():\n",
        "  classes = [\n",
        "    \"T-shirt/top\",\n",
        "    \"Trouser\",\n",
        "    \"Pullover\",\n",
        "    \"Dress\",\n",
        "    \"Coat\",\n",
        "    \"Sandal\",\n",
        "    \"Shirt\",\n",
        "    \"Sneaker\",\n",
        "    \"Bag\",\n",
        "    \"Ankle boot\",\n",
        "]\n",
        "\n",
        "model.eval()\n",
        "x, y = test_data[0][0], test_data[0][1]\n",
        "with torch.no_grad():\n",
        "    x = x.to(device)\n",
        "    pred = model(x)\n",
        "    predicted, actual = classes[pred[0].argmax(0)], classes[y]\n",
        "    print(f'Predicted: \"{predicted}\", Actual: \"{actual}\"')\n"
      ],
      "metadata": {
        "colab": {
          "base_uri": "https://localhost:8080/"
        },
        "id": "q5hj_f1cppJ0",
        "outputId": "88440e71-5ede-420e-d139-170f6c17c528"
      },
      "execution_count": 55,
      "outputs": [
        {
          "output_type": "stream",
          "name": "stdout",
          "text": [
            "Predicted: \"Ankle boot\", Actual: \"Ankle boot\"\n"
          ]
        }
      ]
    },
    {
      "cell_type": "markdown",
      "source": [
        "#Tensors"
      ],
      "metadata": {
        "id": "ZGUzF5olp2H7"
      }
    },
    {
      "cell_type": "markdown",
      "source": [
        "Tensors are specialized DataStructers similar to arrays and matrices.\n",
        "In PyTorch tensors are used to encode the inputs and outputs of a model, as well as it's parameters."
      ],
      "metadata": {
        "id": "opngfb76p4Fr"
      }
    },
    {
      "cell_type": "markdown",
      "source": [
        "##Initializing a tensor"
      ],
      "metadata": {
        "id": "DcR_t7REqKp8"
      }
    },
    {
      "cell_type": "markdown",
      "source": [
        "### Directly from data"
      ],
      "metadata": {
        "id": "QBDvHgX_qOSt"
      }
    },
    {
      "cell_type": "code",
      "source": [
        "data = [[1,2],\n",
        "        [3,4]]\n",
        "\n",
        "tensor_from_data = torch.tensor(data)"
      ],
      "metadata": {
        "id": "wh5y38WGqW4Q"
      },
      "execution_count": 56,
      "outputs": []
    },
    {
      "cell_type": "markdown",
      "source": [
        "###from np array"
      ],
      "metadata": {
        "id": "JL5LwprJqSeq"
      }
    },
    {
      "cell_type": "code",
      "source": [
        "data = [[1,2],\n",
        "        [3,4]]\n",
        "\n",
        "np_array = np.array(data)\n",
        "tensor_from_array = torch.from_numpy(np_array)"
      ],
      "metadata": {
        "id": "jfvcNvKfqizD"
      },
      "execution_count": 57,
      "outputs": []
    },
    {
      "cell_type": "markdown",
      "source": [
        "###from another tensor"
      ],
      "metadata": {
        "id": "_F1ZKQqKqUDv"
      }
    },
    {
      "cell_type": "code",
      "source": [
        "x_ones = torch.ones_like(tensor_from_data) # retains the properties of x_data\n",
        "print(f\"Ones Tensor: \\n {x_ones} \\n\")\n",
        "\n",
        "x_rand = torch.rand_like(tensor_from_data, dtype=torch.float) # overrides the datatype of x_data\n",
        "print(f\"Random Tensor: \\n {x_rand} \\n\")"
      ],
      "metadata": {
        "colab": {
          "base_uri": "https://localhost:8080/"
        },
        "id": "0QCmsH4XqwAG",
        "outputId": "39f3ee3f-57de-46ed-bf55-8e3a56bccc4d"
      },
      "execution_count": 61,
      "outputs": [
        {
          "output_type": "stream",
          "name": "stdout",
          "text": [
            "Ones Tensor: \n",
            " tensor([[1, 1],\n",
            "        [1, 1]]) \n",
            "\n",
            "Random Tensor: \n",
            " tensor([[0.2991, 0.5749],\n",
            "        [0.7849, 0.8664]]) \n",
            "\n"
          ]
        }
      ]
    },
    {
      "cell_type": "markdown",
      "source": [
        "###with random or constant value"
      ],
      "metadata": {
        "id": "HaBpYw0kq7l6"
      }
    },
    {
      "cell_type": "code",
      "source": [
        "shape = (2,3,)\n",
        "rand_tensor = torch.rand(shape)\n",
        "ones_tensor = torch.ones(shape)\n",
        "zeros_tensor = torch.zeros(shape)\n",
        "\n",
        "print(f\"Random Tensor: \\n {rand_tensor} \\n\")\n",
        "print(f\"Ones Tensor: \\n {ones_tensor} \\n\")\n",
        "print(f\"Zeros Tensor: \\n {zeros_tensor}\")"
      ],
      "metadata": {
        "colab": {
          "base_uri": "https://localhost:8080/"
        },
        "id": "acZfN4XZq-Ms",
        "outputId": "4c48c6d6-d161-4352-b15b-2a8212111d82"
      },
      "execution_count": 62,
      "outputs": [
        {
          "output_type": "stream",
          "name": "stdout",
          "text": [
            "Random Tensor: \n",
            " tensor([[0.9151, 0.1209, 0.0112],\n",
            "        [0.3414, 0.3411, 0.1549]]) \n",
            "\n",
            "Ones Tensor: \n",
            " tensor([[1., 1., 1.],\n",
            "        [1., 1., 1.]]) \n",
            "\n",
            "Zeros Tensor: \n",
            " tensor([[0., 0., 0.],\n",
            "        [0., 0., 0.]])\n"
          ]
        }
      ]
    },
    {
      "cell_type": "markdown",
      "source": [
        "##attributes of a tensor"
      ],
      "metadata": {
        "id": "OXkrtivlq-Ly"
      }
    },
    {
      "cell_type": "code",
      "source": [
        "tensor = torch.rand(3,4)\n",
        "\n",
        "print(f\"Shape of tensor: {tensor.shape}\")\n",
        "print(f\"Datatype of tensor: {tensor.dtype}\")\n",
        "print(f\"Device tensor is stored on: {tensor.device}\")"
      ],
      "metadata": {
        "colab": {
          "base_uri": "https://localhost:8080/"
        },
        "id": "pRkfWZVvrFDq",
        "outputId": "f263e7e6-4697-4105-894f-2b1550cc8c67"
      },
      "execution_count": 63,
      "outputs": [
        {
          "output_type": "stream",
          "name": "stdout",
          "text": [
            "Shape of tensor: torch.Size([3, 4])\n",
            "Datatype of tensor: torch.float32\n",
            "Device tensor is stored on: cpu\n"
          ]
        }
      ]
    }
  ]
}