{
  "nbformat": 4,
  "nbformat_minor": 0,
  "metadata": {
    "colab": {
      "provenance": [],
      "collapsed_sections": [
        "yFDq0eCCbv-1",
        "wvAkydDydXmw",
        "6GLxJ0DVUR-m"
      ],
      "authorship_tag": "ABX9TyM5vETz8YcIyo38hOCjxkFf",
      "include_colab_link": true
    },
    "kernelspec": {
      "name": "python3",
      "display_name": "Python 3"
    },
    "language_info": {
      "name": "python"
    }
  },
  "cells": [
    {
      "cell_type": "markdown",
      "metadata": {
        "id": "view-in-github",
        "colab_type": "text"
      },
      "source": [
        "<a href=\"https://colab.research.google.com/github/nafi-rahman/ML-AI/blob/main/Pytorch_workflow_01.ipynb\" target=\"_parent\"><img src=\"https://colab.research.google.com/assets/colab-badge.svg\" alt=\"Open In Colab\"/></a>"
      ]
    },
    {
      "cell_type": "markdown",
      "source": [
        "#Pytorch-workflow\n",
        "* home: https://www.youtube.com/watch?v=V_xro1bcAuA&list=PLWKjhJtqVAblStefaz_YOVpDWqcRScc2s&ab_channel=freeCodeCamp.org\n",
        "* git: https://github.com/mrdbourke/pytorch-deep-learning\n",
        "* ref: https://www.learnpytorch.io/01_pytorch_workflow/\n",
        "* discussion : https://github.com/mrdbourke/pytorch-deep-learning/discussions"
      ],
      "metadata": {
        "id": "K1XahICxauXe"
      }
    },
    {
      "cell_type": "markdown",
      "source": [
        "## `prepare data -> build model -> fit -> infrence -> saving and loading model -> putting it together`"
      ],
      "metadata": {
        "id": "yFDq0eCCbv-1"
      }
    },
    {
      "cell_type": "code",
      "source": [
        "import torch\n",
        "from torch import nn\n",
        "import numpy as np\n",
        "import pandas as pd\n",
        "import matplotlib.pyplot as plt\n",
        "\n",
        "#check version\n",
        "torch.__version__"
      ],
      "metadata": {
        "colab": {
          "base_uri": "https://localhost:8080/",
          "height": 0
        },
        "id": "hFw23qRza000",
        "outputId": "a9bbabc1-ddbb-46e6-b358-723817cf79f4"
      },
      "execution_count": 1,
      "outputs": [
        {
          "output_type": "execute_result",
          "data": {
            "text/plain": [
              "'2.0.1+cu118'"
            ],
            "application/vnd.google.colaboratory.intrinsic+json": {
              "type": "string"
            }
          },
          "metadata": {},
          "execution_count": 1
        }
      ]
    },
    {
      "cell_type": "markdown",
      "source": [
        "#Data(preparing and loading)\n",
        "\n",
        "in machine learning anything that you can convert to numbers can be considered as input data. data can be qualitative, normal , ordinal, quantative etc\n",
        "\n"
      ],
      "metadata": {
        "id": "xEnDtJEecBcI"
      }
    },
    {
      "cell_type": "markdown",
      "source": [
        "##Creating new data with linear regression\n",
        "\n",
        "linear regression `Y = a + bx` [x is explanatory and y is dependent]"
      ],
      "metadata": {
        "id": "wvAkydDydXmw"
      }
    },
    {
      "cell_type": "code",
      "source": [
        "#Create known parameters\n",
        "\n",
        "w = 0.7\n",
        "b = 0.3\n",
        "\n",
        "#Create data\n",
        "start = 0\n",
        "end = 1\n",
        "step = 0.02\n",
        "x = torch.arange(start, end, step).unsqueeze(dim=1)\n",
        "\n",
        "Y = w * x + b\n",
        "x[:10], Y[:10], len(x), len(Y)"
      ],
      "metadata": {
        "colab": {
          "base_uri": "https://localhost:8080/"
        },
        "id": "_EGhnjZV6vQ4",
        "outputId": "0626082e-88f4-4b60-ca4a-d37c121591c8"
      },
      "execution_count": 2,
      "outputs": [
        {
          "output_type": "execute_result",
          "data": {
            "text/plain": [
              "(tensor([[0.0000],\n",
              "         [0.0200],\n",
              "         [0.0400],\n",
              "         [0.0600],\n",
              "         [0.0800],\n",
              "         [0.1000],\n",
              "         [0.1200],\n",
              "         [0.1400],\n",
              "         [0.1600],\n",
              "         [0.1800]]),\n",
              " tensor([[0.3000],\n",
              "         [0.3140],\n",
              "         [0.3280],\n",
              "         [0.3420],\n",
              "         [0.3560],\n",
              "         [0.3700],\n",
              "         [0.3840],\n",
              "         [0.3980],\n",
              "         [0.4120],\n",
              "         [0.4260]]),\n",
              " 50,\n",
              " 50)"
            ]
          },
          "metadata": {},
          "execution_count": 2
        }
      ]
    },
    {
      "cell_type": "markdown",
      "source": [
        "###Splitting data into train and step"
      ],
      "metadata": {
        "id": "XhUOmFaS8Uex"
      }
    },
    {
      "cell_type": "code",
      "source": [
        "# Create train/test split\n",
        "\n",
        "train = int(0.8 * len(x))\n",
        "x_train, Y_train = x[:train], Y[:train]\n",
        "x_test, Y_test = x[train:], Y[train:]\n",
        "\n",
        "len(x_train), len(x_test), len(Y_train), len(Y_test)"
      ],
      "metadata": {
        "colab": {
          "base_uri": "https://localhost:8080/"
        },
        "id": "R8hxEY9S8e8d",
        "outputId": "44f837ab-307a-46cf-b35c-7c1afd451a84"
      },
      "execution_count": 3,
      "outputs": [
        {
          "output_type": "execute_result",
          "data": {
            "text/plain": [
              "(40, 10, 40, 10)"
            ]
          },
          "metadata": {},
          "execution_count": 3
        }
      ]
    },
    {
      "cell_type": "markdown",
      "source": [
        "visualizing data"
      ],
      "metadata": {
        "id": "PS_UlaeL9wSw"
      }
    },
    {
      "cell_type": "code",
      "source": [
        "import matplotlib.pyplot as plt\n",
        "\n",
        "def plot_predict(train_data=x_train,\n",
        "                 train_label=Y_train,\n",
        "                 test_data=x_test,\n",
        "                 test_label=Y_test,\n",
        "                 predic=None):\n",
        "    \"\"\"\n",
        "    Plots training/test data and compares predictions.\n",
        "    \"\"\"\n",
        "    plt.figure(figsize=(10, 7))\n",
        "\n",
        "    # Plot training data\n",
        "    plt.scatter(train_data, train_label, c=\"b\", s=4, label=\"Training Data\")\n",
        "\n",
        "    # Plot test data\n",
        "    plt.scatter(test_data, test_label, c=\"g\", s=4, label=\"Testing Data\")\n",
        "\n",
        "    # Plot predictions if available\n",
        "    if predic is not None:\n",
        "        plt.scatter(test_data, predic, c=\"r\", s=4, label=\"Predictions\")\n",
        "\n",
        "    # Add labels and legend\n",
        "    plt.xlabel(\"X-axis Label\")\n",
        "    plt.ylabel(\"Y-axis Label\")\n",
        "    plt.legend()\n",
        "\n",
        "    # Show the plot\n",
        "    plt.show()\n",
        "\n",
        "# Example usage\n",
        "# plot_predict(train_data=x_train, train_label=Y_train, test_data=x_test, test_label=Y_test, predic=predictions)\n"
      ],
      "metadata": {
        "id": "OelgndLM96M6"
      },
      "execution_count": 4,
      "outputs": []
    },
    {
      "cell_type": "code",
      "source": [
        "plot_predict()"
      ],
      "metadata": {
        "colab": {
          "base_uri": "https://localhost:8080/",
          "height": 0
        },
        "id": "BA5CZ51g-vyr",
        "outputId": "f7ea50b7-d7b7-4344-bb75-1270aa08dc27"
      },
      "execution_count": 5,
      "outputs": [
        {
          "output_type": "display_data",
          "data": {
            "text/plain": [
              "<Figure size 1000x700 with 1 Axes>"
            ],
            "image/png": "[encoded data removed]"
          },
          "metadata": {}
        }
      ]
    },
    {
      "cell_type": "markdown",
      "source": [
        "## Build model\n",
        "Creating a Linear Regression model"
      ],
      "metadata": {
        "id": "OsPJjZvvArfu"
      }
    },
    {
      "cell_type": "code",
      "source": [
        "from torch import nn\n",
        "\n",
        "#Create Linear regression model class\n",
        "class LinearRegressionModel(nn.Module):\n",
        "  def __init__(self):\n",
        "    super().__init__()\n",
        "    self.weight = nn.Parameter(torch.randn(1,\n",
        "                                            requires_grad=True,\n",
        "                                            dtype = torch.float))\n",
        "    self.bias = nn.Parameter(torch.randn(1,\n",
        "                                            requires_grad=True,\n",
        "                                            dtype = torch.float))\n",
        "#Forward method to define computation in model\n",
        "  def forward(self,x: torch.Tensor) -> torch.Tensor:\n",
        "    return self.weight * x + self.bias\n"
      ],
      "metadata": {
        "id": "hFHODMgJAw8-"
      },
      "execution_count": 6,
      "outputs": []
    },
    {
      "cell_type": "markdown",
      "source": [
        "Torch model essentials - https://pytorch.org/tutorials/beginner/ptcheat.html (cheat sheet)\n",
        "* torch.nn - contains the blocks and things needed to build a neural network\n",
        "* torch.nn.parameter - initialives the model parameters\n",
        "* torch.optim - model optimizers\n",
        "* def forward() - All nn.Module subclasses require overwtiting the forward method\n",
        "\n"
      ],
      "metadata": {
        "id": "RY9Z_3GfTMEa"
      }
    },
    {
      "cell_type": "markdown",
      "source": [
        "### checking the content of pytorch model\n",
        "* cheecking model params using .parameters()\n"
      ],
      "metadata": {
        "id": "6GLxJ0DVUR-m"
      }
    },
    {
      "cell_type": "code",
      "source": [
        "#create random seed\n",
        "torch.manual_seed(42)\n",
        "\n",
        "#create an instance of the module( a subclass of nn module)\n",
        "model_0 = LinearRegressionModel()\n",
        "#check out the paramaters\n",
        "list(model_0.parameters())"
      ],
      "metadata": {
        "colab": {
          "base_uri": "https://localhost:8080/"
        },
        "id": "zhROtgT7bL7d",
        "outputId": "90cc5b58-984b-4117-8e38-9aed1c110e26"
      },
      "execution_count": 7,
      "outputs": [
        {
          "output_type": "execute_result",
          "data": {
            "text/plain": [
              "[Parameter containing:\n",
              " tensor([0.3367], requires_grad=True),\n",
              " Parameter containing:\n",
              " tensor([0.1288], requires_grad=True)]"
            ]
          },
          "metadata": {},
          "execution_count": 7
        }
      ]
    },
    {
      "cell_type": "code",
      "source": [
        "#List named params\n",
        "model_0.state_dict()"
      ],
      "metadata": {
        "colab": {
          "base_uri": "https://localhost:8080/"
        },
        "id": "d2IF5wzObL6Y",
        "outputId": "670c382c-5f79-4a8f-e42b-38124360c952"
      },
      "execution_count": 8,
      "outputs": [
        {
          "output_type": "execute_result",
          "data": {
            "text/plain": [
              "OrderedDict([('weight', tensor([0.3367])), ('bias', tensor([0.1288]))])"
            ]
          },
          "metadata": {},
          "execution_count": 8
        }
      ]
    },
    {
      "cell_type": "markdown",
      "source": [
        "###making prediction using `torch.infrence_mode()`\n"
      ],
      "metadata": {
        "id": "6KQGdGnjdB1l"
      }
    },
    {
      "cell_type": "code",
      "source": [
        "with torch.inference_mode():\n",
        "  y_pred = model_0(x_test)\n",
        "\n",
        "y_pred"
      ],
      "metadata": {
        "colab": {
          "base_uri": "https://localhost:8080/"
        },
        "id": "Ko1TLk-xdRF1",
        "outputId": "c59d2753-68de-456d-cde9-3ea0bf6176b8"
      },
      "execution_count": 9,
      "outputs": [
        {
          "output_type": "execute_result",
          "data": {
            "text/plain": [
              "tensor([[0.3982],\n",
              "        [0.4049],\n",
              "        [0.4116],\n",
              "        [0.4184],\n",
              "        [0.4251],\n",
              "        [0.4318],\n",
              "        [0.4386],\n",
              "        [0.4453],\n",
              "        [0.4520],\n",
              "        [0.4588]])"
            ]
          },
          "metadata": {},
          "execution_count": 9
        }
      ]
    },
    {
      "cell_type": "code",
      "source": [
        "plot_predict(predic=y_pred)"
      ],
      "metadata": {
        "colab": {
          "base_uri": "https://localhost:8080/",
          "height": 612
        },
        "id": "3todjHNdUDZ6",
        "outputId": "0e6ecb91-1c53-4f83-f94e-cee286a997c4"
      },
      "execution_count": 10,
      "outputs": [
        {
          "output_type": "display_data",
          "data": {
            "text/plain": [
              "<Figure size 1000x700 with 1 Axes>"
            ],
            "image/png": "[encoded data removed]"
          },
          "metadata": {}
        }
      ]
    },
    {
      "cell_type": "markdown",
      "source": [
        "## Trainaing the model\n"
      ],
      "metadata": {
        "id": "6P97dqDwW8Hi"
      }
    },
    {
      "cell_type": "markdown",
      "source": [
        "###Loss function and Optimizer"
      ],
      "metadata": {
        "id": "9HSiOR66aGkf"
      }
    },
    {
      "cell_type": "code",
      "source": [
        "list(model_0.parameters())"
      ],
      "metadata": {
        "colab": {
          "base_uri": "https://localhost:8080/"
        },
        "id": "pnUHyaPFXCPm",
        "outputId": "e50e8c8c-df4a-4e34-d7ea-ba0a2af84672"
      },
      "execution_count": 11,
      "outputs": [
        {
          "output_type": "execute_result",
          "data": {
            "text/plain": [
              "[Parameter containing:\n",
              " tensor([0.3367], requires_grad=True),\n",
              " Parameter containing:\n",
              " tensor([0.1288], requires_grad=True)]"
            ]
          },
          "metadata": {},
          "execution_count": 11
        }
      ]
    },
    {
      "cell_type": "code",
      "source": [
        "#setting up the loss func\n",
        "loss_fn = torch.nn.L1Loss()\n",
        "#stting up the optimizer\n",
        "optimizer = torch.optim.SGD(params=model_0.parameters(), lr=0.01)"
      ],
      "metadata": {
        "id": "OlsrPWwBaGjb"
      },
      "execution_count": 12,
      "outputs": []
    },
    {
      "cell_type": "markdown",
      "source": [
        "###building a training/testing loop\n",
        "\n",
        "things we need for a loop:\n",
        "0. loop through the data\n",
        "1. forward passs (data moving through the model's forward function)\n",
        "2. Calculate the loss (compare forward pass predictions to ground truth labels)\n",
        "3. Loss Backwards (back propagation) - moves backward through the model / network to calculate the gradiants with respect to the loss\n",
        "4. Optimizer step - (gradient descent) use the optimizer to adjust model params"
      ],
      "metadata": {
        "id": "ml0fWj3sdlSn"
      }
    },
    {
      "cell_type": "code",
      "source": [
        "torch.manual_seed(42)\n",
        "\n",
        "#Epoch = a loop through the data (hyper param)\n",
        "epochs = 200\n",
        "#track vals\n",
        "epoch_count = []\n",
        "loss_val = []\n",
        "test_loss_val = []\n",
        "#TRAIN\n",
        "# 0. looping through data\n",
        "for epoch in range(epochs):\n",
        "# set model to train mode\n",
        "  model_0.train() #train in mode in pytorch sets require grads to true\n",
        "#1. forward pass\n",
        "  y_pred = model_0(x_train)\n",
        "#2. Calculate the loss\n",
        "  loss = loss_fn(y_pred,Y_train)\n",
        "#3. optimizer zero grad\n",
        "  optimizer.zero_grad()\n",
        "#4. backpropagation on the loss with the params of model\n",
        "  loss.backward()\n",
        "#5. step the optimizer\n",
        "  optimizer.step() #how the optimizer changes will accumilate through the loop so we have to 0 them for the next itter of loop\n",
        "\n",
        "  #TEST\n",
        "  model_0.eval() #turns off gradient tracking/drop out/batch norm\n",
        "  with torch.inference_mode():\n",
        "    #1. Do the forwad pass\n",
        "    test_pred = model_0(x_test)\n",
        "    #2. Calculate test loss\n",
        "    test_loss = loss_fn(test_pred, Y_test)\n",
        "    #print\n",
        "    if epoch %10 ==0:\n",
        "      epoch_count.append(epoch)\n",
        "      loss_val.append(loss)\n",
        "      test_loss_val.append(test_loss)\n",
        "      print(f\"Epoch: {epoch} | loss: {loss} | test loss: {test_loss}\")\n",
        "\n",
        "\n"
      ],
      "metadata": {
        "colab": {
          "base_uri": "https://localhost:8080/"
        },
        "id": "0MRuwAb4dpuS",
        "outputId": "9d51c69c-7c6e-4923-d3a5-423fbcf4985f"
      },
      "execution_count": 13,
      "outputs": [
        {
          "output_type": "stream",
          "name": "stdout",
          "text": [
            "Epoch: 0 | loss: 0.31288138031959534 | test loss: 0.48106518387794495\n",
            "Epoch: 10 | loss: 0.1976713240146637 | test loss: 0.3463551998138428\n",
            "Epoch: 20 | loss: 0.08908725529909134 | test loss: 0.21729660034179688\n",
            "Epoch: 30 | loss: 0.053148526698350906 | test loss: 0.14464017748832703\n",
            "Epoch: 40 | loss: 0.04543796554207802 | test loss: 0.11360953003168106\n",
            "Epoch: 50 | loss: 0.04167863354086876 | test loss: 0.09919948130846024\n",
            "Epoch: 60 | loss: 0.03818932920694351 | test loss: 0.08886633068323135\n",
            "Epoch: 70 | loss: 0.03476089984178543 | test loss: 0.0805937647819519\n",
            "Epoch: 80 | loss: 0.03132382780313492 | test loss: 0.07232122868299484\n",
            "Epoch: 90 | loss: 0.02788739837706089 | test loss: 0.06473556160926819\n",
            "Epoch: 100 | loss: 0.024458957836031914 | test loss: 0.05646304413676262\n",
            "Epoch: 110 | loss: 0.021020207554101944 | test loss: 0.04819049686193466\n",
            "Epoch: 120 | loss: 0.01758546568453312 | test loss: 0.04060482233762741\n",
            "Epoch: 130 | loss: 0.014155393466353416 | test loss: 0.03233227878808975\n",
            "Epoch: 140 | loss: 0.010716589167714119 | test loss: 0.024059748277068138\n",
            "Epoch: 150 | loss: 0.0072835334576666355 | test loss: 0.016474086791276932\n",
            "Epoch: 160 | loss: 0.0038517764769494534 | test loss: 0.008201557211577892\n",
            "Epoch: 170 | loss: 0.008932482451200485 | test loss: 0.005023092031478882\n",
            "Epoch: 180 | loss: 0.008932482451200485 | test loss: 0.005023092031478882\n",
            "Epoch: 190 | loss: 0.008932482451200485 | test loss: 0.005023092031478882\n"
          ]
        }
      ]
    },
    {
      "cell_type": "code",
      "source": [
        "with torch.inference_mode():\n",
        "  y_predN = model_0(x_test)"
      ],
      "metadata": {
        "id": "WWxdVv1-vZCo"
      },
      "execution_count": 14,
      "outputs": []
    },
    {
      "cell_type": "code",
      "source": [
        "plt.plot(epoch_count, np.array(torch.tensor(loss_val).numpy()), label=\"train loss\")\n",
        "plt.plot(epoch_count, np.array(torch.tensor(test_loss_val).numpy()), label=\"test loss\")\n",
        "plt.title(\"training and test loss\")\n",
        "plt.ylabel(\"loss\")\n",
        "plt.xlabel(\"Epoch\")\n",
        "plt.legend()"
      ],
      "metadata": {
        "colab": {
          "base_uri": "https://localhost:8080/",
          "height": 489
        },
        "id": "HXpHbjtIwSS3",
        "outputId": "12759ca6-173a-4c65-b56a-133d88b3289b"
      },
      "execution_count": 15,
      "outputs": [
        {
          "output_type": "execute_result",
          "data": {
            "text/plain": [
              "<matplotlib.legend.Legend at 0x791bef58dff0>"
            ]
          },
          "metadata": {},
          "execution_count": 15
        },
        {
          "output_type": "display_data",
          "data": {
            "text/plain": [
              "<Figure size 640x480 with 1 Axes>"
            ],
            "image/png": "[encoded data removed]"
          },
          "metadata": {}
        }
      ]
    },
    {
      "cell_type": "markdown",
      "source": [
        "##saving a model in pytorch\n",
        "\n",
        "there are 3 main methods to save and load a model\n",
        "1. `torch.save()`/`torch.load()` allows you to save/load the model in a pytorch pickle module\n",
        "2. `torch.nn.Module.load_state_dict()` allows you to load a model's saved state dictionary"
      ],
      "metadata": {
        "id": "JUukLB5d6VT4"
      }
    },
    {
      "cell_type": "code",
      "source": [
        "#saving\n",
        "from pathlib import Path\n",
        "# Create model directory\n",
        "Model_path = Path(\"models\")\n",
        "Model_path.mkdir(parents=True, exist_ok=True)\n",
        "\n",
        "#Create model save path\n",
        "Model_name = \"01_pytorch_workflow_model_0.pth\"\n",
        "Model_save_path = Model_path/Model_name\n",
        "\n",
        "#save the model state dict\n",
        "print(f\"saving model to: {Model_save_path}\")\n",
        "torch.save(obj=model_0.state_dict(), f=Model_save_path)"
      ],
      "metadata": {
        "colab": {
          "base_uri": "https://localhost:8080/"
        },
        "id": "KcZwOPjO6dfG",
        "outputId": "e8832b1b-32e1-4890-b85b-ef6def3d6a68"
      },
      "execution_count": 16,
      "outputs": [
        {
          "output_type": "stream",
          "name": "stdout",
          "text": [
            "saving model to: models/01_pytorch_workflow_model_0.pth\n"
          ]
        }
      ]
    },
    {
      "cell_type": "code",
      "source": [
        "!ls -l models"
      ],
      "metadata": {
        "colab": {
          "base_uri": "https://localhost:8080/"
        },
        "id": "P1nYowtn8y8o",
        "outputId": "c90ce61b-2e87-4d73-9043-5f3ab18179b5"
      },
      "execution_count": 17,
      "outputs": [
        {
          "output_type": "stream",
          "name": "stdout",
          "text": [
            "total 4\n",
            "-rw-r--r-- 1 root root 1207 Sep 17 12:19 01_pytorch_workflow_model_0.pth\n"
          ]
        }
      ]
    },
    {
      "cell_type": "code",
      "source": [
        "#loading\n",
        "#since it's saved as a state_dict instead of entire model\n",
        "#we will make a new instance of model class and load the state dict into that\n",
        "\n",
        "loaded_model_0 = LinearRegressionModel()\n",
        "\n",
        "loaded_model_0.load_state_dict(torch.load(Model_save_path))"
      ],
      "metadata": {
        "colab": {
          "base_uri": "https://localhost:8080/"
        },
        "id": "6mQQ6btq9Pqr",
        "outputId": "9781b982-67c9-4ead-fb32-b01e4cac8a5b"
      },
      "execution_count": 22,
      "outputs": [
        {
          "output_type": "stream",
          "name": "stdout",
          "text": [
            "OrderedDict([('weight', tensor([0.2345])), ('bias', tensor([0.2303]))])\n"
          ]
        },
        {
          "output_type": "execute_result",
          "data": {
            "text/plain": [
              "<All keys matched successfully>"
            ]
          },
          "metadata": {},
          "execution_count": 22
        }
      ]
    },
    {
      "cell_type": "code",
      "source": [
        "loaded_model_0.eval()\n",
        "with torch.inference_mode():\n",
        "  loaded_model_pred = loaded_model_0(x_test)\n"
      ],
      "metadata": {
        "id": "0Tlv1gAFFa35"
      },
      "execution_count": 33,
      "outputs": []
    },
    {
      "cell_type": "code",
      "source": [
        "model_0.eval()\n",
        "with torch.inference_mode():\n",
        "  y_pred = model_0(x_test)"
      ],
      "metadata": {
        "id": "5u1UB0yaF4sV"
      },
      "execution_count": 34,
      "outputs": []
    },
    {
      "cell_type": "code",
      "source": [
        "y_pred == loaded_model_pred"
      ],
      "metadata": {
        "colab": {
          "base_uri": "https://localhost:8080/"
        },
        "id": "Y9gMuIxlFuXR",
        "outputId": "03167d02-bacc-4baf-8a1c-e7b9caa89c71"
      },
      "execution_count": 35,
      "outputs": [
        {
          "output_type": "execute_result",
          "data": {
            "text/plain": [
              "tensor([[True],\n",
              "        [True],\n",
              "        [True],\n",
              "        [True],\n",
              "        [True],\n",
              "        [True],\n",
              "        [True],\n",
              "        [True],\n",
              "        [True],\n",
              "        [True]])"
            ]
          },
          "metadata": {},
          "execution_count": 35
        }
      ]
    }
  ]
}