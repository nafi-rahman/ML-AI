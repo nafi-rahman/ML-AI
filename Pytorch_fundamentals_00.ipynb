{
  "nbformat": 4,
  "nbformat_minor": 0,
  "metadata": {
    "colab": {
      "provenance": [],
      "collapsed_sections": [
        "s7F0ZWaJjOk7",
        "GUkxkXS3oTP2",
        "SlR-pbbRskcR",
        "TYpmwiNOuwOa",
        "3Z_2UraWEjqF",
        "LvMSRQdOGsgt",
        "a4xAB-34MgHg",
        "2diHwfjeWHAN"
      ],
      "gpuType": "T4",
      "authorship_tag": "ABX9TyMl63SF0GX4C2jkpPgr2gKR",
      "include_colab_link": true
    },
    "kernelspec": {
      "name": "python3",
      "display_name": "Python 3"
    },
    "language_info": {
      "name": "python"
    },
    "accelerator": "GPU"
  },
  "cells": [
    {
      "cell_type": "markdown",
      "metadata": {
        "id": "view-in-github",
        "colab_type": "text"
      },
      "source": [
        "<a href=\"https://colab.research.google.com/github/nafi-rahman/ML-AI/blob/main/Pytorch_fundamentals_00.ipynb\" target=\"_parent\"><img src=\"https://colab.research.google.com/assets/colab-badge.svg\" alt=\"Open In Colab\"/></a>"
      ]
    },
    {
      "cell_type": "markdown",
      "source": [
        "## 00. Pytorch Fundementals\n",
        "\n",
        "Resource :\n",
        "#1. notebook: https://www.learnpytorch.io/00_pytorch_fundamentals/\n",
        "\n",
        "#2. Git: https://github.com/mrdbourke/pytorch-deep-learning\n",
        "\n",
        "#3. discussion: https://github.com/mrdbourke/pytorch-deep-learning/discussions"
      ],
      "metadata": {
        "id": "_icvRziah2Cf"
      }
    },
    {
      "cell_type": "markdown",
      "source": [],
      "metadata": {
        "id": "LkySBx3Dh53M"
      }
    },
    {
      "cell_type": "code",
      "source": [
        "!nvidia-smi"
      ],
      "metadata": {
        "colab": {
          "base_uri": "https://localhost:8080/"
        },
        "id": "wcON78rahwaA",
        "outputId": "e0d06fe2-f439-4df2-9f2e-a5c778b6780f"
      },
      "execution_count": null,
      "outputs": [
        {
          "output_type": "stream",
          "name": "stdout",
          "text": [
            "/bin/bash: line 1: nvidia-smi: command not found\n"
          ]
        }
      ]
    },
    {
      "cell_type": "code",
      "execution_count": null,
      "metadata": {
        "id": "RXcb7sZrKHXc",
        "colab": {
          "base_uri": "https://localhost:8080/"
        },
        "outputId": "8fd12616-c9eb-4003-a46c-0449e13c0f88"
      },
      "outputs": [
        {
          "output_type": "stream",
          "name": "stdout",
          "text": [
            "2.0.1+cu118\n"
          ]
        }
      ],
      "source": [
        "import torch\n",
        "import pandas as pd\n",
        "import numpy as np\n",
        "import matplotlib.pyplot as plt\n",
        "\n",
        "print(torch.__version__)"
      ]
    },
    {
      "cell_type": "markdown",
      "source": [
        "## Intro to tensors\n",
        "\n",
        "### Creating tensors\n",
        "\n",
        "https://pytorch.org/docs/stable/tensors.html"
      ],
      "metadata": {
        "id": "s7F0ZWaJjOk7"
      }
    },
    {
      "cell_type": "code",
      "source": [
        "#scalar\n",
        "\n",
        "scalar = torch.tensor(7)\n",
        "\n",
        "print(scalar.ndim)\n",
        "print(scalar.item())"
      ],
      "metadata": {
        "colab": {
          "base_uri": "https://localhost:8080/"
        },
        "id": "ykhpMi9ojOj8",
        "outputId": "6b8db237-e35a-4192-d71f-2db90d78e096"
      },
      "execution_count": null,
      "outputs": [
        {
          "output_type": "stream",
          "name": "stdout",
          "text": [
            "0\n",
            "7\n"
          ]
        }
      ]
    },
    {
      "cell_type": "code",
      "source": [
        "# vector\n",
        "\n",
        "vector = torch.tensor([7,7])\n",
        "print(vector.ndim)\n",
        "print(vector.shape)"
      ],
      "metadata": {
        "colab": {
          "base_uri": "https://localhost:8080/"
        },
        "id": "Okhv4M3HjjRp",
        "outputId": "fd2d2b18-d989-4617-c707-be5504778444"
      },
      "execution_count": null,
      "outputs": [
        {
          "output_type": "stream",
          "name": "stdout",
          "text": [
            "1\n",
            "torch.Size([2])\n"
          ]
        }
      ]
    },
    {
      "cell_type": "code",
      "source": [
        "# MATRIX\n",
        "\n",
        "MATRIX = torch.tensor([[7,8],\n",
        "                       [9,10]])\n",
        "\n",
        "print(MATRIX.ndim)\n",
        "print(MATRIX.shape)\n",
        "print(f\"num of 00: {MATRIX[0,0]}\")\n"
      ],
      "metadata": {
        "colab": {
          "base_uri": "https://localhost:8080/"
        },
        "id": "c6sd8WdqlaPg",
        "outputId": "236a96be-c04b-4fd5-833d-354d13c19c93"
      },
      "execution_count": null,
      "outputs": [
        {
          "output_type": "stream",
          "name": "stdout",
          "text": [
            "2\n",
            "torch.Size([2, 2])\n",
            "num of 00: 7\n"
          ]
        }
      ]
    },
    {
      "cell_type": "code",
      "source": [
        "# TENSOR\n",
        "\n",
        "TENSOR = torch.tensor([[[1,2,3],\n",
        "                        [3,6,9],\n",
        "                        [2, 4, 5]]])\n",
        "\n",
        "print(TENSOR)\n",
        "print(\"\\n\")\n",
        "print(f\"dimensions: {TENSOR.ndim}\")\n",
        "print(f\"shape: {TENSOR.shape}\")\n",
        "print(f\"second row of matrix: {TENSOR[0,1]}\")"
      ],
      "metadata": {
        "colab": {
          "base_uri": "https://localhost:8080/"
        },
        "id": "PZWJuIlwlaOp",
        "outputId": "5940717c-0d5d-474e-cd71-3e944149706e"
      },
      "execution_count": null,
      "outputs": [
        {
          "output_type": "stream",
          "name": "stdout",
          "text": [
            "tensor([[[1, 2, 3],\n",
            "         [3, 6, 9],\n",
            "         [2, 4, 5]]])\n",
            "\n",
            "\n",
            "dimensions: 3\n",
            "shape: torch.Size([1, 3, 3])\n",
            "second row of matrix: tensor([3, 6, 9])\n"
          ]
        }
      ]
    },
    {
      "cell_type": "markdown",
      "source": [
        "# Random tensors\n",
        "###### Random tensors are important to NN's cause NN's start with random values and adjust them as they learn.\n",
        "\n",
        "`start with random numbers -> look at data -> update random numbers -> look at data -> update random numbers`"
      ],
      "metadata": {
        "id": "GUkxkXS3oTP2"
      }
    },
    {
      "cell_type": "code",
      "source": [
        "# Create a random tensor of size (3, 4)\n",
        "\n",
        "random_tensor = torch.rand(3,4)\n",
        "print(f\"random tensor: \\n{random_tensor}\\n\")\n",
        "print(f\"dimension: {random_tensor.ndim}\")"
      ],
      "metadata": {
        "colab": {
          "base_uri": "https://localhost:8080/"
        },
        "id": "kp7U3RVMnDVU",
        "outputId": "850f8118-5527-455b-cced-59677381ba6c"
      },
      "execution_count": null,
      "outputs": [
        {
          "output_type": "stream",
          "name": "stdout",
          "text": [
            "random tensor: \n",
            "tensor([[0.5319, 0.3753, 0.6771, 0.5595],\n",
            "        [0.3660, 0.7181, 0.6094, 0.4121],\n",
            "        [0.7407, 0.0411, 0.1594, 0.9262]])\n",
            "\n",
            "dimension: 2\n"
          ]
        }
      ]
    },
    {
      "cell_type": "code",
      "source": [
        "#Random tensor to similar shape to an image\n",
        "random_image_tensor = torch.rand(size=(224,224,3)) #(224,224,224) -> (height, width, color channels)\n",
        "print(f\"dimension: {random_image_tensor.ndim}\")\n",
        "print(f\"shape: {random_image_tensor.shape}\")"
      ],
      "metadata": {
        "colab": {
          "base_uri": "https://localhost:8080/"
        },
        "id": "e-3823N4qMM-",
        "outputId": "479f7d05-32f2-4f49-cbbc-5ac3571a7b3f"
      },
      "execution_count": null,
      "outputs": [
        {
          "output_type": "stream",
          "name": "stdout",
          "text": [
            "dimension: 3\n",
            "shape: torch.Size([224, 224, 3])\n"
          ]
        }
      ]
    },
    {
      "cell_type": "code",
      "source": [
        "#visualizing the random image\n",
        "from PIL import Image\n",
        "\n",
        "def tensor_to_image(tensor):\n",
        "    tensor = tensor*255\n",
        "    tensor = np.array(tensor, dtype=np.uint8)\n",
        "    if np.ndim(tensor)>3:\n",
        "        assert tensor.shape[0] == 1\n",
        "        tensor = tensor[0]\n",
        "    return Image.fromarray(tensor)\n",
        "\n",
        "tensor_to_image(random_image_tensor)"
      ],
      "metadata": {
        "colab": {
          "base_uri": "https://localhost:8080/"
        },
        "id": "1a95_nE9rMtw",
        "outputId": "b0d78f66-d81a-4457-d681-90ef85ef6ad4"
      },
      "execution_count": null,
      "outputs": [
        {
          "output_type": "execute_result",
          "data": {
            "text/plain": [
              "<PIL.Image.Image image mode=RGB size=224x224>"
            ],
            "image/png": "[encoded data removed]"
          },
          "metadata": {},
          "execution_count": 54
        }
      ]
    },
    {
      "cell_type": "markdown",
      "source": [
        "# Zeros ad ones"
      ],
      "metadata": {
        "id": "SlR-pbbRskcR"
      }
    },
    {
      "cell_type": "code",
      "source": [
        "# create a tensor of all zeros\n",
        "\n",
        "zeros = torch.zeros(size=(3,4))\n",
        "print(f\"tensor of 0's : \\n{zeros}\")\n",
        "\n",
        "# create a tensor of all 1's\n",
        "\n",
        "ones = torch.ones(size=(3,4))\n",
        "print(f\"tensor of 1's : \\n{ones}\")\n"
      ],
      "metadata": {
        "colab": {
          "base_uri": "https://localhost:8080/"
        },
        "id": "AUKQuA23skbH",
        "outputId": "80846686-e275-40ef-eb35-d297ec3ddbe3"
      },
      "execution_count": null,
      "outputs": [
        {
          "output_type": "stream",
          "name": "stdout",
          "text": [
            "tensor of 0's : \n",
            "tensor([[0., 0., 0., 0.],\n",
            "        [0., 0., 0., 0.],\n",
            "        [0., 0., 0., 0.]])\n",
            "tensor of 1's : \n",
            "tensor([[1., 1., 1., 1.],\n",
            "        [1., 1., 1., 1.],\n",
            "        [1., 1., 1., 1.]])\n"
          ]
        }
      ]
    },
    {
      "cell_type": "code",
      "source": [
        "print(f\"dtype of tensor: {ones.dtype}\")"
      ],
      "metadata": {
        "colab": {
          "base_uri": "https://localhost:8080/"
        },
        "id": "3tHCH4SAtYFp",
        "outputId": "6e846527-4b94-4e75-ea93-7e9754ec9538"
      },
      "execution_count": null,
      "outputs": [
        {
          "output_type": "stream",
          "name": "stdout",
          "text": [
            "dtype of tensor: torch.float32\n"
          ]
        }
      ]
    },
    {
      "cell_type": "code",
      "source": [
        "one_to_ten = torch.arange(start = 1, end=11, step=1)\n",
        "one_to_ten"
      ],
      "metadata": {
        "colab": {
          "base_uri": "https://localhost:8080/"
        },
        "id": "Q_mYYI50tamE",
        "outputId": "1e45f41d-6331-45b6-e2db-826fc2d0d22c"
      },
      "execution_count": null,
      "outputs": [
        {
          "output_type": "execute_result",
          "data": {
            "text/plain": [
              "tensor([ 1,  2,  3,  4,  5,  6,  7,  8,  9, 10])"
            ]
          },
          "metadata": {},
          "execution_count": 57
        }
      ]
    },
    {
      "cell_type": "code",
      "source": [
        "#creating tensors like\n",
        "ten_zeroes = torch.zeros_like(input=one_to_ten)\n",
        "print(ten_zeroes)"
      ],
      "metadata": {
        "colab": {
          "base_uri": "https://localhost:8080/"
        },
        "id": "ZlbRsD15t2BC",
        "outputId": "7d552542-59e5-4a55-cae6-b90721bf1485"
      },
      "execution_count": null,
      "outputs": [
        {
          "output_type": "stream",
          "name": "stdout",
          "text": [
            "tensor([0, 0, 0, 0, 0, 0, 0, 0, 0, 0])\n"
          ]
        }
      ]
    },
    {
      "cell_type": "markdown",
      "source": [
        "# Tensor Datatypes\n",
        "\n",
        "**NOTE** Tensor datatypes is one of the 3 big errors that are common with Pytorhc and deeplearning.\n",
        "\n",
        "1. Tensors not right datatype.\n",
        "2. Tensors not right shape.\n",
        "3. Tensors not on the right datatype."
      ],
      "metadata": {
        "id": "TYpmwiNOuwOa"
      }
    },
    {
      "cell_type": "code",
      "source": [
        "#float32 tensor\n",
        "\n",
        "float32_tensor = torch.tensor([3.0,6.0,9.0],\n",
        "                              dtype=None, #specific datatype to make the tensor with\n",
        "                              device= None, #what device the tensor will be on(cpu,gpu,mps)\n",
        "                              requires_grad = False #if this tensor needs gradiants to be meassured/tracked or not\n",
        "                              )\n",
        "\n",
        "print(float32_tensor.dtype)"
      ],
      "metadata": {
        "colab": {
          "base_uri": "https://localhost:8080/"
        },
        "id": "V30BF8jPAXbk",
        "outputId": "fbdf30dc-5728-42cf-e1af-de4b285293ce"
      },
      "execution_count": null,
      "outputs": [
        {
          "output_type": "stream",
          "name": "stdout",
          "text": [
            "torch.float32\n"
          ]
        }
      ]
    },
    {
      "cell_type": "code",
      "source": [
        "float_16_tensor = float32_tensor.type(torch.float16)\n",
        "print(float_16_tensor)"
      ],
      "metadata": {
        "colab": {
          "base_uri": "https://localhost:8080/"
        },
        "id": "wKQYOQHxAXag",
        "outputId": "342fe81e-fd0a-414c-d7d7-dfeebf66d722"
      },
      "execution_count": null,
      "outputs": [
        {
          "output_type": "stream",
          "name": "stdout",
          "text": [
            "tensor([3., 6., 9.], dtype=torch.float16)\n"
          ]
        }
      ]
    },
    {
      "cell_type": "code",
      "source": [
        "print(float_16_tensor * float32_tensor)\n",
        "print((float_16_tensor * float32_tensor).dtype)\n",
        "\n",
        "int32_tensor = float32_tensor.type(torch.int32)\n",
        "print(int32_tensor * float32_tensor)\n",
        "print((int32_tensor * float32_tensor).dtype)"
      ],
      "metadata": {
        "colab": {
          "base_uri": "https://localhost:8080/"
        },
        "id": "FA1VdFBsEGLB",
        "outputId": "a8b7200e-8441-49ed-fee5-662a2a4bf18e"
      },
      "execution_count": null,
      "outputs": [
        {
          "output_type": "stream",
          "name": "stdout",
          "text": [
            "tensor([ 9., 36., 81.])\n",
            "torch.float32\n",
            "tensor([ 9., 36., 81.])\n",
            "torch.float32\n"
          ]
        }
      ]
    },
    {
      "cell_type": "markdown",
      "source": [
        "# Getting information from tensors(tensor attributes)\n",
        "\n",
        "1. how to get datatype? tensor.dtype\n",
        "2. how to get shape? tensor.shape\n",
        "3. how to get device? tensor.device\n",
        "\n"
      ],
      "metadata": {
        "id": "3Z_2UraWEjqF"
      }
    },
    {
      "cell_type": "code",
      "source": [
        "some_tensor = torch.rand(3,4)\n",
        "\n",
        "print(f\"tensor: \\n{some_tensor}\\n\")\n",
        "print(f\"dtype: {some_tensor.dtype}\")\n",
        "print(f\"shape: {some_tensor.shape}\")\n",
        "print(f\"device: {some_tensor.device}\")"
      ],
      "metadata": {
        "colab": {
          "base_uri": "https://localhost:8080/"
        },
        "id": "BViHWk7SF2gc",
        "outputId": "0d228f98-2f31-4ac5-91cb-a9c8c19923d7"
      },
      "execution_count": null,
      "outputs": [
        {
          "output_type": "stream",
          "name": "stdout",
          "text": [
            "tensor: \n",
            "tensor([[0.7544, 0.9131, 0.5343, 0.7396],\n",
            "        [0.2611, 0.1754, 0.1975, 0.1562],\n",
            "        [0.2536, 0.5116, 0.9096, 0.0526]])\n",
            "\n",
            "dtype: torch.float32\n",
            "shape: torch.Size([3, 4])\n",
            "device: cpu\n"
          ]
        }
      ]
    },
    {
      "cell_type": "markdown",
      "source": [
        "#Manipulating Tensors/Tensor Operations\n",
        "These operations are:\n",
        "\n",
        "1. Addition\n",
        "\n",
        "2. Substraction\n",
        "\n",
        "3. Multiplication (element-wise)\n",
        "\n",
        "4. Division\n",
        "\n",
        "5. Matrix multiplication(http://matrixmultiplication.xyz/)"
      ],
      "metadata": {
        "id": "LvMSRQdOGsgt"
      }
    },
    {
      "cell_type": "code",
      "source": [
        "#create tensor and add 10\n",
        "tensor = torch.tensor([1,2,3,4])\n",
        "print(f\"before: {tensor} \\n after: {tensor + 10}\")\n",
        "#create tensor and multiply 10\n",
        "print(f\"\\n before: {tensor} \\n after: {tensor * 10}\")\n",
        "#create tensor and subtract 10\n",
        "print(f\"\\n before: {tensor} \\n after: {tensor - 10}\")\n",
        "#create tensor and divide 10\n",
        "print(f\"\\n before: {tensor} \\n after: {tensor / 10}\")\n"
      ],
      "metadata": {
        "colab": {
          "base_uri": "https://localhost:8080/"
        },
        "id": "tyIjWrKEGv_I",
        "outputId": "077bcc13-e403-43de-8521-65b19a9ed086"
      },
      "execution_count": null,
      "outputs": [
        {
          "output_type": "stream",
          "name": "stdout",
          "text": [
            "before: tensor([1, 2, 3, 4]) \n",
            " after: tensor([11, 12, 13, 14])\n",
            "\n",
            " before: tensor([1, 2, 3, 4]) \n",
            " after: tensor([10, 20, 30, 40])\n",
            "\n",
            " before: tensor([1, 2, 3, 4]) \n",
            " after: tensor([-9, -8, -7, -6])\n",
            "\n",
            " before: tensor([1, 2, 3, 4]) \n",
            " after: tensor([0.1000, 0.2000, 0.3000, 0.4000])\n"
          ]
        }
      ]
    },
    {
      "cell_type": "code",
      "source": [
        "#create tensor and matrix multiply with 10\n",
        "%%time\n",
        "print(f\"\\n before: {tensor} \\n after(built in): {torch.matmul(tensor,tensor)}\")"
      ],
      "metadata": {
        "colab": {
          "base_uri": "https://localhost:8080/"
        },
        "id": "h8XM6ZZxGv-E",
        "outputId": "06133d36-65d8-4413-cea9-8b423a4fb0a6"
      },
      "execution_count": null,
      "outputs": [
        {
          "output_type": "stream",
          "name": "stdout",
          "text": [
            "\n",
            " before: tensor([1, 2, 3, 4]) \n",
            " after(built in): 30\n",
            "CPU times: user 1.65 ms, sys: 0 ns, total: 1.65 ms\n",
            "Wall time: 1.66 ms\n"
          ]
        }
      ]
    },
    {
      "cell_type": "code",
      "source": [
        "%%time\n",
        "val = 0\n",
        "for i in range(len(tensor)):\n",
        "  val += tensor[i] * tensor[i]\n",
        "print(f\"using own func {val}\")"
      ],
      "metadata": {
        "colab": {
          "base_uri": "https://localhost:8080/"
        },
        "id": "BQA-YfiEJL24",
        "outputId": "01f20661-718c-412c-a6b8-54c75b116439"
      },
      "execution_count": null,
      "outputs": [
        {
          "output_type": "stream",
          "name": "stdout",
          "text": [
            "using own func 30\n",
            "CPU times: user 3.06 ms, sys: 3 µs, total: 3.06 ms\n",
            "Wall time: 2.74 ms\n"
          ]
        }
      ]
    },
    {
      "cell_type": "markdown",
      "source": [
        "##Shapes for matrix multiplication"
      ],
      "metadata": {
        "id": "17IcQHs6KuI0"
      }
    },
    {
      "cell_type": "code",
      "source": [
        "tensor_a = torch.tensor([\n",
        "    [1,2],\n",
        "    [3,4],\n",
        "    [5,6]\n",
        "])\n",
        "\n",
        "tensor_b = torch.tensor([\n",
        "    [7,8],\n",
        "    [9,10],\n",
        "    [11,12]\n",
        "])\n",
        "\n",
        "tensor_c = torch.tensor([\n",
        "    [13,14,15],\n",
        "    [15,16,17]\n",
        "])\n",
        "\n",
        "print(f\"shape of tensor a: \\n{tensor_a.shape}\")\n",
        "print(f\"shape of tensor b: \\n{tensor_b.shape}\")\n",
        "\n",
        "print(torch.mm(tensor_a,tensor_c))\n",
        "\n",
        "#this gives shape issue mat1 and mat2 shapes cannot be multiplied (3x2 and 3x2)\n",
        "#To fix this we will use transpose which will switch the axis of a given tensor\n",
        "print(f\"\\n{torch.mm(tensor_a,tensor_b.T)}\")"
      ],
      "metadata": {
        "colab": {
          "base_uri": "https://localhost:8080/"
        },
        "id": "hy80paFrKsgf",
        "outputId": "30b38d44-c0e9-4150-9498-c737ff067074"
      },
      "execution_count": null,
      "outputs": [
        {
          "output_type": "stream",
          "name": "stdout",
          "text": [
            "shape of tensor a: \n",
            "torch.Size([3, 2])\n",
            "shape of tensor b: \n",
            "torch.Size([3, 2])\n",
            "tensor([[ 43,  46,  49],\n",
            "        [ 99, 106, 113],\n",
            "        [155, 166, 177]])\n",
            "\n",
            "tensor([[ 23,  29,  35],\n",
            "        [ 53,  67,  81],\n",
            "        [ 83, 105, 127]])\n"
          ]
        }
      ]
    },
    {
      "cell_type": "markdown",
      "source": [
        "#Tensor aggregation: Finding the min,max,mean,sum"
      ],
      "metadata": {
        "id": "a4xAB-34MgHg"
      }
    },
    {
      "cell_type": "code",
      "source": [
        "#creating a random tensor\n",
        "tensor = torch.arange(0,100,10)\n",
        "#find the min\n",
        "print(f\"min of tensor: \\n{tensor.min()}\\n\")\n",
        "#find the max\n",
        "print(f\"max of tensor: \\n{tensor.max()}\\n\")\n",
        "#find the mean(this will give an error cause tensor is currently long. to fix error we change the tensor type to float32)\n",
        "print(f\"mean of tensor: \\n{tensor.type(torch.float32).mean()}\\n\")\n"
      ],
      "metadata": {
        "colab": {
          "base_uri": "https://localhost:8080/"
        },
        "id": "A4-qxzSWMpop",
        "outputId": "2a67cc00-4c4b-49f8-d27f-7919aab75e79"
      },
      "execution_count": null,
      "outputs": [
        {
          "output_type": "stream",
          "name": "stdout",
          "text": [
            "min of tensor: \n",
            "0\n",
            "\n",
            "max of tensor: \n",
            "90\n",
            "\n",
            "mean of tensor: \n",
            "45.0\n",
            "\n",
            "min of tensor: \n",
            "tensor([ 0, 10, 20, 30, 40, 50, 60, 70, 80, 90])\n",
            "\n"
          ]
        }
      ]
    },
    {
      "cell_type": "markdown",
      "source": [
        "##argmax and argmin\n",
        "\n",
        "returns the position/index of the max/min element"
      ],
      "metadata": {
        "id": "sAhKSCJtPBEj"
      }
    },
    {
      "cell_type": "code",
      "source": [
        "#find the argmax\n",
        "print(f\"argmax: {tensor.argmax()}\\n value of tensor at argmax: {tensor[tensor.argmax()]}\\n\")\n",
        "#find the argmintor\n",
        "print(f\"argmin: {tensor.argmin()}\\n value of tensor at argMIN: {tensor[tensor.argmin()]}\\n\")"
      ],
      "metadata": {
        "colab": {
          "base_uri": "https://localhost:8080/"
        },
        "id": "zLMF-vo6PEk-",
        "outputId": "11c3b373-98ed-43fe-df35-e06c72524768"
      },
      "execution_count": null,
      "outputs": [
        {
          "output_type": "stream",
          "name": "stdout",
          "text": [
            "argmax: 9\n",
            " value of tensor at argmax: 90\n",
            "\n",
            "argmin: 0\n",
            " value of tensor at argMIN: 0\n",
            "\n"
          ]
        }
      ]
    },
    {
      "cell_type": "markdown",
      "source": [
        "#Reshaping, Stacking, Squeezing, Unsqueezing....\n",
        "\n",
        "* Reshape - reshapes tensors to a defined shape\n",
        "* view - returns a view of input tensors of a certain shape while keeping memory of the original tensor\n",
        "* Stacking - combining multipple tensors either vertical or horizontal or a certain dimension\n",
        "* Squeeze - removes all `1` dimensions from a tensor\n",
        "* Unsqueeze - adds a `1` dimension to a target tensor\n",
        "* Permute - Return a view of the input with dimensions permuted (swapped) in a certain way"
      ],
      "metadata": {
        "id": "2diHwfjeWHAN"
      }
    },
    {
      "cell_type": "code",
      "source": [
        "#reshape\n",
        "tensor = torch.arange(1.,10.)\n",
        "print(f\"original tensor: {tensor} \\n shape: {tensor.shape}\\n\")\n",
        "\n",
        "tensor_reshape = tensor.reshape(9,1)\n",
        "tensor_reshape, tensor_reshape.shape\n",
        "\n",
        "print(f\"reshaped tensor: {tensor_reshape} \\n shape: {tensor_reshape.shape}\\n\")"
      ],
      "metadata": {
        "colab": {
          "base_uri": "https://localhost:8080/"
        },
        "id": "57f6tHBeWNEk",
        "outputId": "0ff27cae-a29a-4bbe-f64d-4a72f8a520d7"
      },
      "execution_count": null,
      "outputs": [
        {
          "output_type": "stream",
          "name": "stdout",
          "text": [
            "original tensor: tensor([1., 2., 3., 4., 5., 6., 7., 8., 9.]) \n",
            " shape: torch.Size([9])\n",
            "\n",
            "reshaped tensor: tensor([[1.],\n",
            "        [2.],\n",
            "        [3.],\n",
            "        [4.],\n",
            "        [5.],\n",
            "        [6.],\n",
            "        [7.],\n",
            "        [8.],\n",
            "        [9.]]) \n",
            " shape: torch.Size([9, 1])\n",
            "\n"
          ]
        }
      ]
    },
    {
      "cell_type": "code",
      "source": [
        "#change view\n",
        "x = tensor.view(3,3)\n",
        "print(f\"tensor: {x} \\n shape: {x.shape}\\n\")\n",
        "#view shares the memory with original tensor,\n",
        "#in other words x is just the original tensor in a different view\n",
        "#if i change value in original tensor x will change too\n",
        "print(f\"original tensor 0th elm before: {tensor[0]}\\n\")\n",
        "print(f\"x tensor 0th elm before: {x[0,0]}\\n\")\n",
        "\n",
        "#changing the 0th elm\n",
        "\n",
        "tensor[0] = 2.\n",
        "print(f\"original tensor 0th elm after: {tensor[0]}\\n\")\n",
        "print(f\"x tensor 0th elm after: {x[0,0]}\\n\")\n",
        "\n",
        "#i did not change elm of x but since it shares memory with original tensor, it changed too."
      ],
      "metadata": {
        "colab": {
          "base_uri": "https://localhost:8080/"
        },
        "id": "gbTxP-9BXQGV",
        "outputId": "ab9faa8f-377a-46ef-84b6-fb984c4e48f0"
      },
      "execution_count": null,
      "outputs": [
        {
          "output_type": "stream",
          "name": "stdout",
          "text": [
            "tensor: tensor([[1., 2., 3.],\n",
            "        [4., 5., 6.],\n",
            "        [7., 8., 9.]]) \n",
            " shape: torch.Size([3, 3])\n",
            "\n",
            "original tensor 0th elm before: 1.0\n",
            "\n",
            "x tensor 0th elm before: 1.0\n",
            "\n",
            "original tensor 0th elm after: 2.0\n",
            "\n",
            "x tensor 0th elm after: 2.0\n",
            "\n"
          ]
        }
      ]
    },
    {
      "cell_type": "code",
      "source": [
        "#Stack tensors on top of eachother\n",
        "x_stacked = torch.stack([x,x])\n",
        "print(x_stacked)\n"
      ],
      "metadata": {
        "colab": {
          "base_uri": "https://localhost:8080/"
        },
        "id": "QcRSXEL3aoRE",
        "outputId": "8d6d244b-258a-4974-fc7a-672fc5f24cbd"
      },
      "execution_count": null,
      "outputs": [
        {
          "output_type": "stream",
          "name": "stdout",
          "text": [
            "tensor([[[2., 2., 3.],\n",
            "         [4., 5., 6.],\n",
            "         [7., 8., 9.]],\n",
            "\n",
            "        [[2., 2., 3.],\n",
            "         [4., 5., 6.],\n",
            "         [7., 8., 9.]]])\n"
          ]
        }
      ]
    },
    {
      "cell_type": "code",
      "source": [
        "#squeeze tensor\n",
        "y = torch.zeros(1,2,3)\n",
        "print(y)\n",
        "print(y.shape)\n",
        "y = y.squeeze()\n",
        "print(y)\n",
        "print(y.shape)"
      ],
      "metadata": {
        "colab": {
          "base_uri": "https://localhost:8080/"
        },
        "id": "Gg-qexDZfmT4",
        "outputId": "16470dee-c457-4c6b-bec9-05b69ddd043c"
      },
      "execution_count": null,
      "outputs": [
        {
          "output_type": "stream",
          "name": "stdout",
          "text": [
            "tensor([[[0., 0., 0.],\n",
            "         [0., 0., 0.]]])\n",
            "torch.Size([1, 2, 3])\n",
            "tensor([[0., 0., 0.],\n",
            "        [0., 0., 0.]])\n",
            "torch.Size([2, 3])\n"
          ]
        }
      ]
    },
    {
      "cell_type": "code",
      "source": [
        "#unsqueeze\n",
        "print(y.shape)\n",
        "y = y.unsqueeze(dim=0) #dim = the position of where dim 1 will be added\n",
        "print(y.shape)"
      ],
      "metadata": {
        "colab": {
          "base_uri": "https://localhost:8080/"
        },
        "id": "SrwCxnAFgMyG",
        "outputId": "6840ed31-8979-4c1b-abe1-7a44b0600797"
      },
      "execution_count": null,
      "outputs": [
        {
          "output_type": "stream",
          "name": "stdout",
          "text": [
            "torch.Size([2, 3])\n",
            "torch.Size([1, 2, 3])\n"
          ]
        }
      ]
    },
    {
      "cell_type": "code",
      "source": [
        "#permute - rearranges the dimensions of the target tensors in a specified order\n",
        "\n",
        "x = torch.rand(1,2,3)\n",
        "print (x)\n",
        "print(x.shape)\n",
        "\n",
        "x = torch.permute(x, (2,0,1)) #the in the permute are representing the dimensions. 2th dimension will be 1st and so on\n",
        "print (f\"permute: \\n{x}\\n\")\n",
        "print(f\"permute shape: \\n {x.shape}\\n\")\n"
      ],
      "metadata": {
        "colab": {
          "base_uri": "https://localhost:8080/"
        },
        "id": "WZFydd5Ig8FY",
        "outputId": "db2903fa-8259-43a1-beca-70184cb1e3c4"
      },
      "execution_count": null,
      "outputs": [
        {
          "output_type": "stream",
          "name": "stdout",
          "text": [
            "tensor([[[0.6874, 0.3773, 0.0190],\n",
            "         [0.1246, 0.0097, 0.6461]]])\n",
            "torch.Size([1, 2, 3])\n",
            "permute: \n",
            "tensor([[[0.6874, 0.1246]],\n",
            "\n",
            "        [[0.3773, 0.0097]],\n",
            "\n",
            "        [[0.0190, 0.6461]]])\n",
            "\n",
            "permute shape: \n",
            " torch.Size([3, 1, 2])\n",
            "\n"
          ]
        }
      ]
    },
    {
      "cell_type": "code",
      "source": [
        "#permute - another example of permute\n",
        "\n",
        "x = torch.rand(224,224,3)\n",
        "# print(f\"tensor before permute: \\n{x}\\n\")\n",
        "print(f\"shape of tensor before permute: \\n{x.shape}\\n\")\n",
        "\n",
        "x_permute = x.permute(2,1,0)\n",
        "# print(f\"tensor after permute: \\n{x_permute}\\n\")\n",
        "print(f\"shape of tensor after permute: \\n{x_permute.shape}\\n\")\n"
      ],
      "metadata": {
        "colab": {
          "base_uri": "https://localhost:8080/"
        },
        "id": "aYJG1Zs8idz6",
        "outputId": "afd67673-0832-4d60-ca73-0827c5f28433"
      },
      "execution_count": null,
      "outputs": [
        {
          "output_type": "stream",
          "name": "stdout",
          "text": [
            "shape of tensor before permute: \n",
            "torch.Size([224, 224, 3])\n",
            "\n",
            "shape of tensor after permute: \n",
            "torch.Size([3, 224, 224])\n",
            "\n"
          ]
        }
      ]
    },
    {
      "cell_type": "markdown",
      "source": [
        "#Indexing (selecting data from tensors)\n",
        "\n",
        "indexing with pytorch is similar to indexing with numpy\n",
        "* pytorch uses tensors\n",
        "* numpy uses arrays\n"
      ],
      "metadata": {
        "id": "cL4O1ZQ_jkkf"
      }
    },
    {
      "cell_type": "code",
      "source": [
        "#Create a tensor\n",
        "x = torch.arange(1,10).reshape(1,3,3)\n",
        "x, x.shape"
      ],
      "metadata": {
        "colab": {
          "base_uri": "https://localhost:8080/"
        },
        "id": "aSl2IjaujifH",
        "outputId": "2b3a7b7e-84f5-4c3c-a2e5-c2a826173846"
      },
      "execution_count": null,
      "outputs": [
        {
          "output_type": "execute_result",
          "data": {
            "text/plain": [
              "(tensor([[[1, 2, 3],\n",
              "          [4, 5, 6],\n",
              "          [7, 8, 9]]]),\n",
              " torch.Size([1, 3, 3]))"
            ]
          },
          "metadata": {},
          "execution_count": 168
        }
      ]
    },
    {
      "cell_type": "code",
      "source": [
        "#Indexing the new tensor\n",
        "print(f\"tensor x: \\n{x[0]}\\n\")\n",
        "print(f\"indexing the first row: \\n{x[0,0]}\\n\")\n",
        "print(f\"indexing the second row: \\n{x[0,1]}\\n\")\n",
        "print(f\"indexing the third row: \\n{x[0,2]}\\n\")"
      ],
      "metadata": {
        "colab": {
          "base_uri": "https://localhost:8080/"
        },
        "id": "gXC4PvZQkBTo",
        "outputId": "138b4cd9-a661-4160-e51c-536b9b5c2409"
      },
      "execution_count": null,
      "outputs": [
        {
          "output_type": "stream",
          "name": "stdout",
          "text": [
            "tensor x: \n",
            "tensor([[1, 2, 3],\n",
            "        [4, 5, 6],\n",
            "        [7, 8, 9]])\n",
            "\n",
            "indexing the first row: \n",
            "tensor([1, 2, 3])\n",
            "\n",
            "indexing the second row: \n",
            "tensor([4, 5, 6])\n",
            "\n",
            "indexing the third row: \n",
            "tensor([7, 8, 9])\n",
            "\n"
          ]
        }
      ]
    },
    {
      "cell_type": "code",
      "source": [
        "#Indexing the new tensor\n",
        "print(f\"tensor x: \\n{x[0]}\\n\")\n",
        "print(f\"indexing the first row first item: \\n{x[0,0,0]}\\n\")\n",
        "print(f\"indexing the second row second item: \\n{x[0,1,1]}\\n\")\n",
        "print(f\"indexing the third row third item: \\n{x[0,2,2]}\\n\")"
      ],
      "metadata": {
        "colab": {
          "base_uri": "https://localhost:8080/"
        },
        "id": "ToXClzSgk-HS",
        "outputId": "5c7c1cde-a594-4b44-d080-e4d76442cb0e"
      },
      "execution_count": null,
      "outputs": [
        {
          "output_type": "stream",
          "name": "stdout",
          "text": [
            "tensor x: \n",
            "tensor([[1, 2, 3],\n",
            "        [4, 5, 6],\n",
            "        [7, 8, 9]])\n",
            "\n",
            "indexing the first row first item: \n",
            "1\n",
            "\n",
            "indexing the second row second item: \n",
            "5\n",
            "\n",
            "indexing the third row third item: \n",
            "9\n",
            "\n"
          ]
        }
      ]
    },
    {
      "cell_type": "code",
      "source": [
        "#using [:] to select row 1\n",
        "print(f\"row 1: \\n{x[:,1]}\\n\")\n",
        "#using [:] to select  2 rows\n",
        "print(f\"2 rows : \\n{x[:,:2]}\\n\")\n",
        "#using [:] to select last 2 rows\n",
        "print(f\" last 2 rows: \\n{x[:,1:]}\\n\")\n",
        "#using [:] to select  all rows\n",
        "print(f\" all rows: \\n{x[:,:]}\\n\")\n"
      ],
      "metadata": {
        "colab": {
          "base_uri": "https://localhost:8080/"
        },
        "id": "zkXNRgX-lmS-",
        "outputId": "528b3ebf-bd1f-41a1-eea8-02a80c74516c"
      },
      "execution_count": null,
      "outputs": [
        {
          "output_type": "stream",
          "name": "stdout",
          "text": [
            "row 1: \n",
            "tensor([[4, 5, 6]])\n",
            "\n",
            "2 rows : \n",
            "tensor([[[1, 2, 3],\n",
            "         [4, 5, 6]]])\n",
            "\n",
            " last 2 rows: \n",
            "tensor([[[4, 5, 6],\n",
            "         [7, 8, 9]]])\n",
            "\n",
            " all rows: \n",
            "tensor([[[1, 2, 3],\n",
            "         [4, 5, 6],\n",
            "         [7, 8, 9]]])\n",
            "\n"
          ]
        }
      ]
    },
    {
      "cell_type": "markdown",
      "source": [
        "# Pytorch and numpy\n",
        "numpy is a library to help with numerical computation. so, pytorch has functionality to interact with numpy.\n",
        "\n",
        "* Data could be in numpy array and we might want to convert it into torch tensor\n",
        "* Data could be pytorch tensor and we might want to convert it into numpy array\n",
        "\n",
        "https://pytorch.org/tutorials/beginner/examples_tensor/polynomial_numpy.html"
      ],
      "metadata": {
        "id": "4k9A6cx0ncBX"
      }
    },
    {
      "cell_type": "code",
      "source": [
        "#numpy array to torch tensor\n",
        "\n",
        "array = np.arange(1.,8.) #numpy has default dtype of float64\n",
        "print(f\"array: \\n{array}\\n\")\n",
        "tensor = torch.from_numpy(array).type(torch.float32) #converting to torch default dtype of float32\n",
        "print(f\"tensor from numpy array: \\n{tensor}\\n\")"
      ],
      "metadata": {
        "colab": {
          "base_uri": "https://localhost:8080/"
        },
        "id": "EzQ-RAkSnfhX",
        "outputId": "184d3f34-9217-4719-c7f5-6efaeb263e5f"
      },
      "execution_count": null,
      "outputs": [
        {
          "output_type": "stream",
          "name": "stdout",
          "text": [
            "array: \n",
            "[1. 2. 3. 4. 5. 6. 7.]\n",
            "\n",
            "tensor from numpy array: \n",
            "tensor([1., 2., 3., 4., 5., 6., 7.])\n",
            "\n"
          ]
        }
      ]
    },
    {
      "cell_type": "code",
      "source": [
        "# torch to numpy\n",
        "\n",
        "tensor = torch.ones(7)\n",
        "print(f\"tensor: \\n{tensor}\\n\")\n",
        "numpy_arr = tensor.numpy()\n",
        "print(f\"tensor to numpy array: \\n{numpy_arr}\\n\")"
      ],
      "metadata": {
        "colab": {
          "base_uri": "https://localhost:8080/"
        },
        "id": "PUO0TiUCpKbi",
        "outputId": "531918f0-f467-41b0-d079-8fc4de276c81"
      },
      "execution_count": null,
      "outputs": [
        {
          "output_type": "stream",
          "name": "stdout",
          "text": [
            "tensor: \n",
            "tensor([1., 1., 1., 1., 1., 1., 1.])\n",
            "\n",
            "tensor to numpy array: \n",
            "[1. 1. 1. 1. 1. 1. 1.]\n",
            "\n"
          ]
        }
      ]
    },
    {
      "cell_type": "markdown",
      "source": [
        "#Reproducibility\n",
        "\n",
        "to reduce randomness in pytorch comes the concept of a **random seed**\n",
        "https://pytorch.org/docs/stable/notes/randomness.html"
      ],
      "metadata": {
        "id": "T2t5idEQqB2k"
      }
    },
    {
      "cell_type": "code",
      "source": [
        "#creating two random tensors\n",
        "\n",
        "tensor_a = torch.rand(3,4)\n",
        "tensor_b = torch.rand(3,4)"
      ],
      "metadata": {
        "id": "iRAXaKA0pimr"
      },
      "execution_count": null,
      "outputs": []
    },
    {
      "cell_type": "code",
      "source": [
        "print(tensor_a == tensor_b) #the tensors have individual random numbers"
      ],
      "metadata": {
        "colab": {
          "base_uri": "https://localhost:8080/"
        },
        "id": "-EIwY58BrZF8",
        "outputId": "14b191ad-64b6-411d-885e-3f796b4fd162"
      },
      "execution_count": null,
      "outputs": [
        {
          "output_type": "stream",
          "name": "stdout",
          "text": [
            "tensor([[False, False, False, False],\n",
            "        [False, False, False, False],\n",
            "        [False, False, False, False]])\n"
          ]
        }
      ]
    },
    {
      "cell_type": "code",
      "source": [
        "#makin two random but identical tensors\n",
        "#setting random seed\n",
        "seed = 42\n",
        "torch.manual_seed(seed)\n",
        "\n",
        "tensor_c = torch.rand(3,4)\n",
        "torch.manual_seed(seed)\n",
        "tensor_d = torch.rand(3,4)"
      ],
      "metadata": {
        "id": "LKoAYME0rr_C"
      },
      "execution_count": null,
      "outputs": []
    },
    {
      "cell_type": "code",
      "source": [
        "print(tensor_c == tensor_d)#the tensors have individual random numbers\n",
        "                            #but the numbers in both tensors are same bc of seed"
      ],
      "metadata": {
        "colab": {
          "base_uri": "https://localhost:8080/"
        },
        "id": "CN9ClLa9sEKz",
        "outputId": "9266d74c-e7cc-4ebb-8300-f3e445b6da36"
      },
      "execution_count": null,
      "outputs": [
        {
          "output_type": "stream",
          "name": "stdout",
          "text": [
            "tensor([[True, True, True, True],\n",
            "        [True, True, True, True],\n",
            "        [True, True, True, True]])\n"
          ]
        }
      ]
    },
    {
      "cell_type": "markdown",
      "source": [
        "#Running tensors and pytorch objects on GPU\n",
        "https://pytorch.org/docs/stable/notes/cuda.html"
      ],
      "metadata": {
        "id": "rG89PMEhy1k9"
      }
    },
    {
      "cell_type": "code",
      "source": [
        "import torch"
      ],
      "metadata": {
        "id": "CelpnHV7zCSh"
      },
      "execution_count": 1,
      "outputs": []
    },
    {
      "cell_type": "code",
      "source": [
        "!nvidia-smi"
      ],
      "metadata": {
        "colab": {
          "base_uri": "https://localhost:8080/"
        },
        "id": "0S8Sl2KszX-i",
        "outputId": "69f3e180-4423-4836-d4d5-134226d1c0f3"
      },
      "execution_count": 2,
      "outputs": [
        {
          "output_type": "stream",
          "name": "stdout",
          "text": [
            "Wed Sep 13 09:09:42 2023       \n",
            "+-----------------------------------------------------------------------------+\n",
            "| NVIDIA-SMI 525.105.17   Driver Version: 525.105.17   CUDA Version: 12.0     |\n",
            "|-------------------------------+----------------------+----------------------+\n",
            "| GPU  Name        Persistence-M| Bus-Id        Disp.A | Volatile Uncorr. ECC |\n",
            "| Fan  Temp  Perf  Pwr:Usage/Cap|         Memory-Usage | GPU-Util  Compute M. |\n",
            "|                               |                      |               MIG M. |\n",
            "|===============================+======================+======================|\n",
            "|   0  Tesla T4            Off  | 00000000:00:04.0 Off |                    0 |\n",
            "| N/A   54C    P8    10W /  70W |      0MiB / 15360MiB |      0%      Default |\n",
            "|                               |                      |                  N/A |\n",
            "+-------------------------------+----------------------+----------------------+\n",
            "                                                                               \n",
            "+-----------------------------------------------------------------------------+\n",
            "| Processes:                                                                  |\n",
            "|  GPU   GI   CI        PID   Type   Process name                  GPU Memory |\n",
            "|        ID   ID                                                   Usage      |\n",
            "|=============================================================================|\n",
            "|  No running processes found                                                 |\n",
            "+-----------------------------------------------------------------------------+\n"
          ]
        }
      ]
    },
    {
      "cell_type": "code",
      "source": [
        "#check for gpu access with torch\n",
        "print(torch.cuda.is_available())"
      ],
      "metadata": {
        "colab": {
          "base_uri": "https://localhost:8080/"
        },
        "id": "9_Ko5EhkzadV",
        "outputId": "36e7ea6b-59d8-4232-a7e8-1830d58dabac"
      },
      "execution_count": 3,
      "outputs": [
        {
          "output_type": "stream",
          "name": "stdout",
          "text": [
            "True\n"
          ]
        }
      ]
    },
    {
      "cell_type": "code",
      "source": [
        "#setting up device agnostic code\n",
        "\n",
        "device = \"cuda\" if torch.cuda.is_available() else \"cpu\"\n",
        "device"
      ],
      "metadata": {
        "colab": {
          "base_uri": "https://localhost:8080/",
          "height": 35
        },
        "id": "AFJiFSkYzgKc",
        "outputId": "22501536-8de9-43b4-d78b-2c77f7cf9176"
      },
      "execution_count": 4,
      "outputs": [
        {
          "output_type": "execute_result",
          "data": {
            "text/plain": [
              "'cuda'"
            ],
            "application/vnd.google.colaboratory.intrinsic+json": {
              "type": "string"
            }
          },
          "metadata": {},
          "execution_count": 4
        }
      ]
    },
    {
      "cell_type": "code",
      "source": [
        "#create a tensor (default on CPU)\n",
        "\n",
        "tensor = torch.tensor([1,2,3], device='cpu')\n",
        "\n",
        "print(tensor, tensor.device)"
      ],
      "metadata": {
        "colab": {
          "base_uri": "https://localhost:8080/"
        },
        "id": "T0_Air7czqMk",
        "outputId": "fa6bf8b8-cbfd-4422-d4d7-79f4c3684999"
      },
      "execution_count": 5,
      "outputs": [
        {
          "output_type": "stream",
          "name": "stdout",
          "text": [
            "tensor([1, 2, 3]) cpu\n"
          ]
        }
      ]
    },
    {
      "cell_type": "code",
      "source": [
        "#move tensor to gpu if available\n",
        "\n",
        "tensor_gpu = tensor.to(device)\n",
        "print(tensor_gpu, tensor_gpu.device)"
      ],
      "metadata": {
        "colab": {
          "base_uri": "https://localhost:8080/"
        },
        "id": "A73ICkdJ0Q81",
        "outputId": "e8917f4c-3519-482d-abbc-747764b724d2"
      },
      "execution_count": 7,
      "outputs": [
        {
          "output_type": "stream",
          "name": "stdout",
          "text": [
            "tensor([1, 2, 3], device='cuda:0') cuda:0\n"
          ]
        }
      ]
    },
    {
      "cell_type": "code",
      "source": [
        "#moving tensors back to CPU\n",
        "\n",
        "tensor_cpu = tensor_gpu.to(\"cpu\")\n",
        "print(tensor_cpu, tensor_cpu.device)\n",
        "print(tensor_cpu.numpy()) #numpy doesn't work on gpu so we need to move tensors back to cpu to make it work with numpy"
      ],
      "metadata": {
        "colab": {
          "base_uri": "https://localhost:8080/"
        },
        "id": "-JapgTC20W9K",
        "outputId": "dd03410c-6669-4a0f-e895-31036d6a0cb8"
      },
      "execution_count": 11,
      "outputs": [
        {
          "output_type": "stream",
          "name": "stdout",
          "text": [
            "tensor([1, 2, 3]) cpu\n",
            "[1 2 3]\n"
          ]
        }
      ]
    },
    {
      "cell_type": "markdown",
      "source": [
        "#EXCERCISES & EXTRA CURRICULAM FOR PRACTICE\n",
        "template notebook - https://github.com/mrdbourke/pytorch-deep-learning/blob/main/extras/exercises/00_pytorch_fundamentals_exercises.ipynb\n",
        "template answer notebook -https://github.com/mrdbourke/pytorch-deep-learning/blob/main/extras/solutions/00_pytorch_fundamentals_exercise_solutions.ipynb\n",
        "\n",
        "understanding tensors - https://www.youtube.com/watch?v=f5liqUk0ZTw&feature=youtu.be\n",
        "1 hr excercise - https://pytorch.org/tutorials/beginner/basics/intro.html (Quickstart and tensor sections reccomended)\n"
      ],
      "metadata": {
        "id": "WyW6TYIN1LVh"
      }
    }
  ]
}